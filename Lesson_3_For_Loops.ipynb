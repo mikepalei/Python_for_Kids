{
 "cells": [
  {
   "cell_type": "markdown",
   "id": "69b85c8a",
   "metadata": {},
   "source": [
    "# Range Интервал"
   ]
  },
  {
   "cell_type": "markdown",
   "id": "f971ccf0",
   "metadata": {},
   "source": [
    "В интервале мы обязательно задаем `верхнюю` границу. По умолчанию нежней границей интервала считается 0.\n",
    "\n",
    "Важно помнить, что она в наш интервал <b>не</b> входит."
   ]
  },
  {
   "cell_type": "code",
   "execution_count": 3,
   "id": "a5a67de4",
   "metadata": {},
   "outputs": [
    {
     "data": {
      "text/plain": [
       "[0, 1, 2, 3, 4, 5, 6, 7, 8, 9]"
      ]
     },
     "execution_count": 3,
     "metadata": {},
     "output_type": "execute_result"
    }
   ],
   "source": [
    "r = range(10)\n",
    "list(r)"
   ]
  },
  {
   "cell_type": "markdown",
   "id": "2924b3d1",
   "metadata": {},
   "source": [
    "При желании мы можем указать так же и `нижнюю` границу."
   ]
  },
  {
   "cell_type": "code",
   "execution_count": 6,
   "id": "08449b33",
   "metadata": {},
   "outputs": [
    {
     "data": {
      "text/plain": [
       "[1, 2, 3, 4, 5]"
      ]
     },
     "execution_count": 6,
     "metadata": {},
     "output_type": "execute_result"
    }
   ],
   "source": [
    "r = range(1, 6)\n",
    "list(r)"
   ]
  },
  {
   "cell_type": "markdown",
   "id": "569babf4",
   "metadata": {},
   "source": [
    "Помимо этого мы можем указать так же и `шаги` между значениями в нашем интервале.\n",
    "\n",
    "В следующем примере шаг равен 2."
   ]
  },
  {
   "cell_type": "code",
   "execution_count": 7,
   "id": "d14f87d1",
   "metadata": {},
   "outputs": [
    {
     "data": {
      "text/plain": [
       "[1, 3, 5]"
      ]
     },
     "execution_count": 7,
     "metadata": {},
     "output_type": "execute_result"
    }
   ],
   "source": [
    "r = range(1, 6, 2)\n",
    "list(r)"
   ]
  },
  {
   "cell_type": "markdown",
   "id": "f07ff5c0",
   "metadata": {},
   "source": [
    "# For Loop"
   ]
  },
  {
   "cell_type": "markdown",
   "id": "1e79ebd5",
   "metadata": {},
   "source": [
    "## Работа с индексами"
   ]
  },
  {
   "cell_type": "code",
   "execution_count": 9,
   "id": "82bef05a",
   "metadata": {},
   "outputs": [],
   "source": [
    "l = [1,2,3,4]"
   ]
  },
  {
   "cell_type": "code",
   "execution_count": 10,
   "id": "6f215333",
   "metadata": {},
   "outputs": [],
   "source": [
    "#Вспоминаем одно из важнейших свойств списокв - длинну (length). \n",
    "#Чтобы узнать длину списка нам нужна функция len(<переменная_с_нашим_списокм>)"
   ]
  },
  {
   "cell_type": "code",
   "execution_count": 11,
   "id": "a2340984",
   "metadata": {},
   "outputs": [
    {
     "name": "stdout",
     "output_type": "stream",
     "text": [
      "1 2\n",
      "2 4\n",
      "3 6\n",
      "4 8\n"
     ]
    }
   ],
   "source": [
    "#Работаем с индексами списка. \n",
    "#Для каждого индекса получаем соответсвующий элемент из списка и производим с ним какое-то действие.\n",
    "for i in range(len(l)):\n",
    "    print(l[i], l[i] * 2)"
   ]
  },
  {
   "cell_type": "markdown",
   "id": "2e6e0a45",
   "metadata": {},
   "source": [
    "## Работа напрямую с элементами массива"
   ]
  },
  {
   "cell_type": "code",
   "execution_count": 13,
   "id": "a8380d09",
   "metadata": {},
   "outputs": [
    {
     "name": "stdout",
     "output_type": "stream",
     "text": [
      "10\n",
      "20\n",
      "30\n",
      "40\n"
     ]
    }
   ],
   "source": [
    "for element in l:\n",
    "    print(element * 10)"
   ]
  },
  {
   "cell_type": "code",
   "execution_count": null,
   "id": "c28256fc",
   "metadata": {},
   "outputs": [],
   "source": []
  }
 ],
 "metadata": {
  "hide_input": false,
  "kernelspec": {
   "display_name": "Python 3",
   "language": "python",
   "name": "python3"
  },
  "language_info": {
   "codemirror_mode": {
    "name": "ipython",
    "version": 3
   },
   "file_extension": ".py",
   "mimetype": "text/x-python",
   "name": "python",
   "nbconvert_exporter": "python",
   "pygments_lexer": "ipython3",
   "version": "3.8.6"
  },
  "toc": {
   "base_numbering": 1,
   "nav_menu": {},
   "number_sections": true,
   "sideBar": true,
   "skip_h1_title": false,
   "title_cell": "Table of Contents",
   "title_sidebar": "Contents",
   "toc_cell": false,
   "toc_position": {},
   "toc_section_display": true,
   "toc_window_display": false
  }
 },
 "nbformat": 4,
 "nbformat_minor": 5
}
