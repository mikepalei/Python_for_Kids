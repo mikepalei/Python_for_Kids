{
 "cells": [
  {
   "cell_type": "markdown",
   "id": "22575301",
   "metadata": {},
   "source": [
    "# Lists Списки"
   ]
  },
  {
   "cell_type": "markdown",
   "id": "ef7238e5",
   "metadata": {},
   "source": [
    "<p> \n",
    "    A list in python can be created in two ways:\n",
    "    <ol>\n",
    "        <li>Using square brackets <b>[]</b></li>\n",
    "        <li>Using <b>list()</b> command</li>\n",
    "    </ol>\n",
    "</p>"
   ]
  },
  {
   "cell_type": "markdown",
   "id": "5380d92e",
   "metadata": {},
   "source": [
    "## Создаем пустые списки"
   ]
  },
  {
   "cell_type": "code",
   "execution_count": 1,
   "id": "6f260eee",
   "metadata": {},
   "outputs": [],
   "source": [
    "l_1 = []"
   ]
  },
  {
   "cell_type": "code",
   "execution_count": 2,
   "id": "a9bdf4fb",
   "metadata": {},
   "outputs": [],
   "source": [
    "l_2 = list()"
   ]
  },
  {
   "cell_type": "markdown",
   "id": "85e81554",
   "metadata": {},
   "source": [
    "## Создаем списки с предопределенными элементами"
   ]
  },
  {
   "cell_type": "raw",
   "id": "ff2bd64b",
   "metadata": {},
   "source": [
    "ВАЖНО элементы могут быть РАЗНЫХ типов"
   ]
  },
  {
   "cell_type": "code",
   "execution_count": 12,
   "id": "b317278a",
   "metadata": {},
   "outputs": [],
   "source": [
    "l_1 = [\"a\", 2, 5.5, True]"
   ]
  },
  {
   "cell_type": "markdown",
   "id": "7c815770",
   "metadata": {},
   "source": [
    "## Длинна списка (одно из самых полезных его свойств)"
   ]
  },
  {
   "cell_type": "code",
   "execution_count": 37,
   "id": "7feb1e00",
   "metadata": {},
   "outputs": [
    {
     "data": {
      "text/plain": [
       "5"
      ]
     },
     "execution_count": 37,
     "metadata": {},
     "output_type": "execute_result"
    }
   ],
   "source": [
    "len(l_1)"
   ]
  },
  {
   "cell_type": "code",
   "execution_count": null,
   "id": "74e188c9",
   "metadata": {
    "solution2": "shown",
    "solution2_first": true
   },
   "outputs": [],
   "source": [
    "# Какова длина списка l_2?"
   ]
  },
  {
   "cell_type": "code",
   "execution_count": 40,
   "id": "71629196",
   "metadata": {
    "solution2": "shown"
   },
   "outputs": [
    {
     "data": {
      "text/plain": [
       "0"
      ]
     },
     "execution_count": 40,
     "metadata": {},
     "output_type": "execute_result"
    }
   ],
   "source": [
    "len(l_2)"
   ]
  },
  {
   "cell_type": "markdown",
   "id": "b26c6c14",
   "metadata": {
    "solution2": "shown",
    "solution2_first": true
   },
   "source": [
    "## Lists are mutable"
   ]
  },
  {
   "cell_type": "code",
   "execution_count": 25,
   "id": "c138ca29",
   "metadata": {
    "solution2": "shown"
   },
   "outputs": [
    {
     "name": "stdout",
     "output_type": "stream",
     "text": [
      "l_2 = [], l_2 id = 4460934336\n",
      "++++++++\n",
      "l_2 = [0], l_2 id = 4460934336\n",
      "l_2 = [0, 1], l_2 id = 4460934336\n",
      "l_2 = [0, 1, 2], l_2 id = 4460934336\n",
      "l_2 = [0, 1, 2, 3], l_2 id = 4460934336\n",
      "l_2 = [0, 1, 2, 3, 4], l_2 id = 4460934336\n",
      "l_2 = [0, 1, 2, 3, 4, 5], l_2 id = 4460934336\n",
      "l_2 = [0, 1, 2, 3, 4, 5, 6], l_2 id = 4460934336\n",
      "l_2 = [0, 1, 2, 3, 4, 5, 6, 7], l_2 id = 4460934336\n",
      "l_2 = [0, 1, 2, 3, 4, 5, 6, 7, 8], l_2 id = 4460934336\n",
      "l_2 = [0, 1, 2, 3, 4, 5, 6, 7, 8, 9], l_2 id = 4460934336\n",
      "l_2 = [0, 1, 2, 3, 4, 5, 6, 7, 8, 9, 10], l_2 id = 4460934336\n",
      "l_2 = [0, 1, 2, 3, 4, 5, 6, 7, 8, 9, 10, 11], l_2 id = 4460934336\n",
      "l_2 = [0, 1, 2, 3, 4, 5, 6, 7, 8, 9, 10, 11, 12], l_2 id = 4460934336\n",
      "l_2 = [0, 1, 2, 3, 4, 5, 6, 7, 8, 9, 10, 11, 12, 13], l_2 id = 4460934336\n",
      "l_2 = [0, 1, 2, 3, 4, 5, 6, 7, 8, 9, 10, 11, 12, 13, 14], l_2 id = 4460934336\n",
      "l_2 = [0, 1, 2, 3, 4, 5, 6, 7, 8, 9, 10, 11, 12, 13, 14, 15], l_2 id = 4460934336\n",
      "l_2 = [0, 1, 2, 3, 4, 5, 6, 7, 8, 9, 10, 11, 12, 13, 14, 15, 16], l_2 id = 4460934336\n",
      "l_2 = [0, 1, 2, 3, 4, 5, 6, 7, 8, 9, 10, 11, 12, 13, 14, 15, 16, 17], l_2 id = 4460934336\n",
      "l_2 = [0, 1, 2, 3, 4, 5, 6, 7, 8, 9, 10, 11, 12, 13, 14, 15, 16, 17, 18], l_2 id = 4460934336\n",
      "l_2 = [0, 1, 2, 3, 4, 5, 6, 7, 8, 9, 10, 11, 12, 13, 14, 15, 16, 17, 18, 19], l_2 id = 4460934336\n"
     ]
    }
   ],
   "source": [
    "print(f\"l_2 = {l_2}, l_2 id = {id(l_2)}\")\n",
    "print('++++++++')\n",
    "for _ in range(20):\n",
    "    l_2.append(_)\n",
    "    print(f\"l_2 = {l_2}, l_2 id = {id(l_2)}\")\n",
    "\n"
   ]
  },
  {
   "cell_type": "code",
   "execution_count": 4,
   "id": "07e89487",
   "metadata": {},
   "outputs": [],
   "source": [
    "s = \"abcd\""
   ]
  },
  {
   "cell_type": "code",
   "execution_count": 8,
   "id": "327134e3",
   "metadata": {},
   "outputs": [
    {
     "name": "stdout",
     "output_type": "stream",
     "text": [
      "a\n"
     ]
    }
   ],
   "source": [
    "print(s[0])"
   ]
  },
  {
   "cell_type": "code",
   "execution_count": 9,
   "id": "453f20eb",
   "metadata": {},
   "outputs": [
    {
     "data": {
      "text/plain": [
       "['a', 2, 5.5, True]"
      ]
     },
     "execution_count": 9,
     "metadata": {},
     "output_type": "execute_result"
    }
   ],
   "source": [
    "l_1"
   ]
  },
  {
   "cell_type": "markdown",
   "id": "7a7bb387",
   "metadata": {},
   "source": [
    "## Получение элементов по иднексу"
   ]
  },
  {
   "cell_type": "markdown",
   "id": "1eaeb8ee",
   "metadata": {
    "solution2": "shown",
    "solution2_first": true
   },
   "source": [
    "### Получить первый элемент списка"
   ]
  },
  {
   "cell_type": "code",
   "execution_count": 10,
   "id": "47a74dc5",
   "metadata": {
    "solution2": "shown"
   },
   "outputs": [
    {
     "data": {
      "text/plain": [
       "'a'"
      ]
     },
     "execution_count": 10,
     "metadata": {},
     "output_type": "execute_result"
    }
   ],
   "source": [
    "l_1[0]"
   ]
  },
  {
   "cell_type": "markdown",
   "id": "714fc87d",
   "metadata": {
    "solution2": "shown",
    "solution2_first": true
   },
   "source": [
    "### Получить первые два элемента, т.е. все до третьего (не включительно)"
   ]
  },
  {
   "cell_type": "code",
   "execution_count": 11,
   "id": "6c3edb9b",
   "metadata": {
    "solution2": "shown"
   },
   "outputs": [
    {
     "data": {
      "text/plain": [
       "['a', 2]"
      ]
     },
     "execution_count": 11,
     "metadata": {},
     "output_type": "execute_result"
    }
   ],
   "source": [
    "l_1[:2]"
   ]
  },
  {
   "cell_type": "markdown",
   "id": "0b6b75be",
   "metadata": {
    "solution2": "hidden",
    "solution2_first": true
   },
   "source": [
    "### Получить предпоследний элемент"
   ]
  },
  {
   "cell_type": "code",
   "execution_count": 12,
   "id": "0ddfed23",
   "metadata": {},
   "outputs": [
    {
     "data": {
      "text/plain": [
       "5.5"
      ]
     },
     "execution_count": 12,
     "metadata": {},
     "output_type": "execute_result"
    }
   ],
   "source": [
    "l_1[-2]"
   ]
  },
  {
   "cell_type": "markdown",
   "id": "005fa9bd",
   "metadata": {
    "solution2": "shown",
    "solution2_first": true
   },
   "source": [
    "##  Изменение (переопределение) элемента списка по индексу (через присвоение нового значения)"
   ]
  },
  {
   "cell_type": "code",
   "execution_count": null,
   "id": "38cec6a8",
   "metadata": {
    "solution2": "shown"
   },
   "outputs": [],
   "source": [
    "l_1[0] = \"Mike\""
   ]
  },
  {
   "cell_type": "code",
   "execution_count": 13,
   "id": "1d887acf",
   "metadata": {},
   "outputs": [
    {
     "name": "stdout",
     "output_type": "stream",
     "text": [
      "<class 'list'>\n"
     ]
    }
   ],
   "source": [
    "print(type(l_1))"
   ]
  },
  {
   "cell_type": "markdown",
   "id": "31d72015",
   "metadata": {},
   "source": [
    "## Разбираем встроенные функции"
   ]
  },
  {
   "cell_type": "markdown",
   "id": "7afc20d8",
   "metadata": {},
   "source": [
    "### Какие еще встроенные методы есть у списков"
   ]
  },
  {
   "cell_type": "markdown",
   "id": "3005d1af",
   "metadata": {},
   "source": [
    "* append - добавление в конец списка\n",
    "* clear - очистить список, стереть все элементы\n",
    "* copy - поверхностное копирование\n",
    "* count - подсчитывает кол-во указанного элемента в списке\n",
    "* extend - добавляет список элементов к текущему списку. ВАЖНО - в результате остается одномерный список\n",
    "* index - возвращает индекс элемента в списке\n",
    "* insert - вставляет элемент по указанному индексу\n",
    "* pop - вынимает (выщелкивает) из списка элемент по указанному индексу и возвращает его\n",
    "* remove - стирает первый элемент со значением равным аргументу\n",
    "* reverse - перевернуть список в обратном порядке\n",
    "* sort - сортирует список\n"
   ]
  },
  {
   "cell_type": "markdown",
   "id": "d9c2b9c1",
   "metadata": {},
   "source": [
    "#### append"
   ]
  },
  {
   "cell_type": "code",
   "execution_count": 7,
   "id": "246734c8",
   "metadata": {},
   "outputs": [
    {
     "data": {
      "text/plain": [
       "['a', 2, 5.5, True]"
      ]
     },
     "execution_count": 7,
     "metadata": {},
     "output_type": "execute_result"
    }
   ],
   "source": [
    "l_1"
   ]
  },
  {
   "cell_type": "code",
   "execution_count": 6,
   "id": "ea389856",
   "metadata": {},
   "outputs": [
    {
     "data": {
      "text/plain": [
       "4"
      ]
     },
     "execution_count": 6,
     "metadata": {},
     "output_type": "execute_result"
    }
   ],
   "source": [
    "len(l_1)"
   ]
  },
  {
   "cell_type": "code",
   "execution_count": 8,
   "id": "0322721f",
   "metadata": {},
   "outputs": [
    {
     "name": "stdout",
     "output_type": "stream",
     "text": [
      "['a', 2, 5.5, True, 10]\n"
     ]
    }
   ],
   "source": [
    "l_1.append(10)\n",
    "print(l_1)"
   ]
  },
  {
   "cell_type": "code",
   "execution_count": 9,
   "id": "ebf39929",
   "metadata": {},
   "outputs": [
    {
     "data": {
      "text/plain": [
       "5"
      ]
     },
     "execution_count": 9,
     "metadata": {},
     "output_type": "execute_result"
    }
   ],
   "source": [
    "len(l_1)"
   ]
  },
  {
   "cell_type": "markdown",
   "id": "52542190",
   "metadata": {},
   "source": [
    "### clear"
   ]
  },
  {
   "cell_type": "code",
   "execution_count": 10,
   "id": "c91dc52f",
   "metadata": {},
   "outputs": [
    {
     "data": {
      "text/plain": [
       "[]"
      ]
     },
     "execution_count": 10,
     "metadata": {},
     "output_type": "execute_result"
    }
   ],
   "source": [
    "l_1.clear()\n",
    "l_1"
   ]
  },
  {
   "cell_type": "code",
   "execution_count": 11,
   "id": "7a80e152",
   "metadata": {},
   "outputs": [
    {
     "data": {
      "text/plain": [
       "0"
      ]
     },
     "execution_count": 11,
     "metadata": {},
     "output_type": "execute_result"
    }
   ],
   "source": [
    "len(l_1)"
   ]
  },
  {
   "cell_type": "markdown",
   "id": "5620ca36",
   "metadata": {},
   "source": [
    "### copy"
   ]
  },
  {
   "cell_type": "code",
   "execution_count": 13,
   "id": "21dcb1a2",
   "metadata": {},
   "outputs": [],
   "source": [
    "l_1 = [\"aaa\", \"bbb\", \"ccc\"]\n",
    "l_1_copy = l_1.copy()"
   ]
  },
  {
   "cell_type": "code",
   "execution_count": 14,
   "id": "4dbf35a2",
   "metadata": {},
   "outputs": [
    {
     "data": {
      "text/plain": [
       "4601592128"
      ]
     },
     "execution_count": 14,
     "metadata": {},
     "output_type": "execute_result"
    }
   ],
   "source": [
    "id(l_1)"
   ]
  },
  {
   "cell_type": "code",
   "execution_count": 15,
   "id": "961eda75",
   "metadata": {},
   "outputs": [
    {
     "data": {
      "text/plain": [
       "4609379072"
      ]
     },
     "execution_count": 15,
     "metadata": {},
     "output_type": "execute_result"
    }
   ],
   "source": [
    "id(l_1_copy)"
   ]
  },
  {
   "cell_type": "code",
   "execution_count": 16,
   "id": "c0f4760e",
   "metadata": {},
   "outputs": [
    {
     "data": {
      "text/plain": [
       "4603006000"
      ]
     },
     "execution_count": 16,
     "metadata": {},
     "output_type": "execute_result"
    }
   ],
   "source": [
    "id(l_1[0])"
   ]
  },
  {
   "cell_type": "code",
   "execution_count": 17,
   "id": "ced04035",
   "metadata": {},
   "outputs": [
    {
     "data": {
      "text/plain": [
       "4603006000"
      ]
     },
     "execution_count": 17,
     "metadata": {},
     "output_type": "execute_result"
    }
   ],
   "source": [
    "id(l_1_copy[0])"
   ]
  },
  {
   "cell_type": "code",
   "execution_count": 18,
   "id": "ed081cd9",
   "metadata": {},
   "outputs": [
    {
     "name": "stdout",
     "output_type": "stream",
     "text": [
      "aaa 50\n"
     ]
    }
   ],
   "source": [
    "l_1_copy[0] = 50\n",
    "print(l_1[0], l_1_copy[0])"
   ]
  },
  {
   "cell_type": "code",
   "execution_count": 19,
   "id": "9acc221e",
   "metadata": {},
   "outputs": [],
   "source": [
    "class Person():\n",
    "    def __init__(self, name, age):\n",
    "        self.name = name\n",
    "        self.age = age\n",
    "    def introduce(self):\n",
    "        print(\"My name is =\", name, \"my age is=\", age)"
   ]
  },
  {
   "cell_type": "code",
   "execution_count": 21,
   "id": "bc2299f8",
   "metadata": {},
   "outputs": [],
   "source": [
    "l_3 = [Person(\"Mike\", 44), \"bbb\", \"ccc\"]\n",
    "l_3_copy = l_3.copy()"
   ]
  },
  {
   "cell_type": "code",
   "execution_count": 22,
   "id": "ad6d1503",
   "metadata": {},
   "outputs": [
    {
     "data": {
      "text/plain": [
       "'Mike'"
      ]
     },
     "execution_count": 22,
     "metadata": {},
     "output_type": "execute_result"
    }
   ],
   "source": [
    "l_3[0].name"
   ]
  },
  {
   "cell_type": "code",
   "execution_count": 23,
   "id": "35260fa0",
   "metadata": {},
   "outputs": [
    {
     "data": {
      "text/plain": [
       "'Mike'"
      ]
     },
     "execution_count": 23,
     "metadata": {},
     "output_type": "execute_result"
    }
   ],
   "source": [
    "l_3_copy[0].name"
   ]
  },
  {
   "cell_type": "code",
   "execution_count": 24,
   "id": "3e50ebb0",
   "metadata": {},
   "outputs": [],
   "source": [
    "l_3_copy[0].name = \"Bob\""
   ]
  },
  {
   "cell_type": "code",
   "execution_count": 25,
   "id": "a578d22c",
   "metadata": {},
   "outputs": [
    {
     "data": {
      "text/plain": [
       "'Bob'"
      ]
     },
     "execution_count": 25,
     "metadata": {},
     "output_type": "execute_result"
    }
   ],
   "source": [
    "l_3[0].name"
   ]
  },
  {
   "cell_type": "markdown",
   "id": "6fd439f3",
   "metadata": {},
   "source": [
    "### count"
   ]
  },
  {
   "cell_type": "code",
   "execution_count": 26,
   "id": "aec92f44",
   "metadata": {},
   "outputs": [
    {
     "data": {
      "text/plain": [
       "1"
      ]
     },
     "execution_count": 26,
     "metadata": {},
     "output_type": "execute_result"
    }
   ],
   "source": [
    "l_1.count(\"aaa\")"
   ]
  },
  {
   "cell_type": "code",
   "execution_count": 27,
   "id": "3f53167a",
   "metadata": {},
   "outputs": [
    {
     "data": {
      "text/plain": [
       "0"
      ]
     },
     "execution_count": 27,
     "metadata": {},
     "output_type": "execute_result"
    }
   ],
   "source": [
    "l_1.count(10)"
   ]
  },
  {
   "cell_type": "markdown",
   "id": "c4fe2b40",
   "metadata": {},
   "source": [
    "### extend"
   ]
  },
  {
   "cell_type": "code",
   "execution_count": 28,
   "id": "0e52a2da",
   "metadata": {},
   "outputs": [],
   "source": [
    "l_1 = [\"aaa\", \"bbb\", \"ccc\"]\n",
    "l_1.append([\"ddd\", \"eee\"])"
   ]
  },
  {
   "cell_type": "code",
   "execution_count": 29,
   "id": "6916250f",
   "metadata": {},
   "outputs": [
    {
     "name": "stdout",
     "output_type": "stream",
     "text": [
      "['aaa', 'bbb', 'ccc', ['ddd', 'eee']]\n"
     ]
    }
   ],
   "source": [
    "print(l_1)"
   ]
  },
  {
   "cell_type": "code",
   "execution_count": 33,
   "id": "b188eb26",
   "metadata": {},
   "outputs": [
    {
     "data": {
      "text/plain": [
       "4"
      ]
     },
     "execution_count": 33,
     "metadata": {},
     "output_type": "execute_result"
    }
   ],
   "source": [
    "len(l_1)"
   ]
  },
  {
   "cell_type": "code",
   "execution_count": 30,
   "id": "70b797ec",
   "metadata": {},
   "outputs": [
    {
     "name": "stdout",
     "output_type": "stream",
     "text": [
      "['aaa', 'bbb', 'ccc', 'ddd', 'eee']\n"
     ]
    }
   ],
   "source": [
    "l_1 = [\"aaa\", \"bbb\", \"ccc\"]\n",
    "l_1.extend([\"ddd\", \"eee\"])\n",
    "print(l_1)"
   ]
  },
  {
   "cell_type": "code",
   "execution_count": 35,
   "id": "980ba41a",
   "metadata": {},
   "outputs": [
    {
     "data": {
      "text/plain": [
       "5"
      ]
     },
     "execution_count": 35,
     "metadata": {},
     "output_type": "execute_result"
    }
   ],
   "source": [
    "len(l_1)"
   ]
  },
  {
   "cell_type": "markdown",
   "id": "a2306b44",
   "metadata": {},
   "source": [
    "### index - по умолчанию вернет индекс ПЕРВОГО элемента с данным значением"
   ]
  },
  {
   "cell_type": "code",
   "execution_count": 31,
   "id": "4d7c412e",
   "metadata": {},
   "outputs": [
    {
     "data": {
      "text/plain": [
       "1"
      ]
     },
     "execution_count": 31,
     "metadata": {},
     "output_type": "execute_result"
    }
   ],
   "source": [
    "l_1 = [\"aaa\", \"bbb\", \"ccc\"]\n",
    "l_1.index(\"bbb\")"
   ]
  },
  {
   "cell_type": "code",
   "execution_count": 38,
   "id": "a0885a5f",
   "metadata": {},
   "outputs": [
    {
     "data": {
      "text/plain": [
       "1"
      ]
     },
     "execution_count": 38,
     "metadata": {},
     "output_type": "execute_result"
    }
   ],
   "source": [
    "l_1 = [\"aaa\", \"bbb\", \"ccc\", \"ddd\", \"bbb\", \"aaa\"]\n",
    "l_1.index(\"bbb\")"
   ]
  },
  {
   "cell_type": "code",
   "execution_count": 32,
   "id": "b18b1375",
   "metadata": {},
   "outputs": [
    {
     "ename": "ValueError",
     "evalue": "100 is not in list",
     "output_type": "error",
     "traceback": [
      "\u001b[0;31m---------------------------------------------------------------------------\u001b[0m",
      "\u001b[0;31mValueError\u001b[0m                                Traceback (most recent call last)",
      "Input \u001b[0;32mIn [32]\u001b[0m, in \u001b[0;36m<cell line: 1>\u001b[0;34m()\u001b[0m\n\u001b[0;32m----> 1\u001b[0m \u001b[43ml_1\u001b[49m\u001b[38;5;241;43m.\u001b[39;49m\u001b[43mindex\u001b[49m\u001b[43m(\u001b[49m\u001b[38;5;241;43m100\u001b[39;49m\u001b[43m)\u001b[49m\n",
      "\u001b[0;31mValueError\u001b[0m: 100 is not in list"
     ]
    }
   ],
   "source": [
    "l_1.index(100)"
   ]
  },
  {
   "cell_type": "markdown",
   "id": "b8346250",
   "metadata": {},
   "source": [
    "### insert"
   ]
  },
  {
   "cell_type": "code",
   "execution_count": 39,
   "id": "868aac04",
   "metadata": {},
   "outputs": [],
   "source": [
    "l_1 = [\"aaa\", \"bbb\", \"ccc\"]\n",
    "l_1.insert(1, 10)"
   ]
  },
  {
   "cell_type": "code",
   "execution_count": 40,
   "id": "465281e2",
   "metadata": {},
   "outputs": [
    {
     "data": {
      "text/plain": [
       "['aaa', 10, 'bbb', 'ccc']"
      ]
     },
     "execution_count": 40,
     "metadata": {},
     "output_type": "execute_result"
    }
   ],
   "source": [
    "l_1"
   ]
  },
  {
   "cell_type": "markdown",
   "id": "81041a40",
   "metadata": {},
   "source": [
    "### pop"
   ]
  },
  {
   "cell_type": "code",
   "execution_count": 33,
   "id": "279118b5",
   "metadata": {},
   "outputs": [],
   "source": [
    "l_1 = [\"aaa\", \"bbb\", \"ccc\"]\n",
    "res = l_1.pop(1)"
   ]
  },
  {
   "cell_type": "code",
   "execution_count": 34,
   "id": "b2614ce7",
   "metadata": {},
   "outputs": [
    {
     "data": {
      "text/plain": [
       "'bbb'"
      ]
     },
     "execution_count": 34,
     "metadata": {},
     "output_type": "execute_result"
    }
   ],
   "source": [
    "res"
   ]
  },
  {
   "cell_type": "code",
   "execution_count": 35,
   "id": "42d5d060",
   "metadata": {},
   "outputs": [
    {
     "data": {
      "text/plain": [
       "['aaa', 'ccc']"
      ]
     },
     "execution_count": 35,
     "metadata": {},
     "output_type": "execute_result"
    }
   ],
   "source": [
    "l_1"
   ]
  },
  {
   "cell_type": "markdown",
   "id": "c3455348",
   "metadata": {},
   "source": [
    "### remove"
   ]
  },
  {
   "cell_type": "code",
   "execution_count": 110,
   "id": "6d1dfd36",
   "metadata": {},
   "outputs": [],
   "source": [
    "l_1 = [\"aaa\", \"bbb\", \"ccc\", \"aaa\", \"bbb\"]"
   ]
  },
  {
   "cell_type": "code",
   "execution_count": 111,
   "id": "9301db1f",
   "metadata": {},
   "outputs": [],
   "source": [
    "l_1.remove(\"bbb\")"
   ]
  },
  {
   "cell_type": "code",
   "execution_count": 112,
   "id": "d0b1e77d",
   "metadata": {},
   "outputs": [
    {
     "data": {
      "text/plain": [
       "['aaa', 'ccc', 'aaa', 'bbb']"
      ]
     },
     "execution_count": 112,
     "metadata": {},
     "output_type": "execute_result"
    }
   ],
   "source": [
    "l_1"
   ]
  },
  {
   "cell_type": "markdown",
   "id": "51264d61",
   "metadata": {},
   "source": [
    "### reverse"
   ]
  },
  {
   "cell_type": "code",
   "execution_count": 116,
   "id": "13f151e4",
   "metadata": {},
   "outputs": [],
   "source": [
    "l_1 = [\"aaa\", 50, \"bbb\", False, 40, \"start\"]"
   ]
  },
  {
   "cell_type": "code",
   "execution_count": 117,
   "id": "bddf4eca",
   "metadata": {},
   "outputs": [
    {
     "data": {
      "text/plain": [
       "['aaa', 50, 'bbb', False, 40, 'start']"
      ]
     },
     "execution_count": 117,
     "metadata": {},
     "output_type": "execute_result"
    }
   ],
   "source": [
    "l_1"
   ]
  },
  {
   "cell_type": "code",
   "execution_count": 118,
   "id": "79529f54",
   "metadata": {},
   "outputs": [],
   "source": [
    "l_1.reverse()"
   ]
  },
  {
   "cell_type": "code",
   "execution_count": 119,
   "id": "d40063bc",
   "metadata": {},
   "outputs": [
    {
     "data": {
      "text/plain": [
       "['start', 40, False, 'bbb', 50, 'aaa']"
      ]
     },
     "execution_count": 119,
     "metadata": {},
     "output_type": "execute_result"
    }
   ],
   "source": [
    "l_1"
   ]
  },
  {
   "cell_type": "markdown",
   "id": "f687ecb7",
   "metadata": {},
   "source": [
    "### sort"
   ]
  },
  {
   "cell_type": "code",
   "execution_count": 120,
   "id": "621d096e",
   "metadata": {},
   "outputs": [],
   "source": [
    "l_1 = [10, 2, 20, 4, 57, 19]"
   ]
  },
  {
   "cell_type": "code",
   "execution_count": 121,
   "id": "012c4b91",
   "metadata": {},
   "outputs": [],
   "source": [
    "l_1.sort()"
   ]
  },
  {
   "cell_type": "code",
   "execution_count": 122,
   "id": "3de21346",
   "metadata": {},
   "outputs": [
    {
     "data": {
      "text/plain": [
       "[2, 4, 10, 19, 20, 57]"
      ]
     },
     "execution_count": 122,
     "metadata": {},
     "output_type": "execute_result"
    }
   ],
   "source": [
    "l_1"
   ]
  },
  {
   "cell_type": "code",
   "execution_count": 123,
   "id": "2acdd338",
   "metadata": {},
   "outputs": [],
   "source": [
    "l_1.sort(reverse=True)"
   ]
  },
  {
   "cell_type": "code",
   "execution_count": 124,
   "id": "58376b16",
   "metadata": {},
   "outputs": [
    {
     "data": {
      "text/plain": [
       "[57, 20, 19, 10, 4, 2]"
      ]
     },
     "execution_count": 124,
     "metadata": {},
     "output_type": "execute_result"
    }
   ],
   "source": [
    "l_1"
   ]
  },
  {
   "cell_type": "code",
   "execution_count": 125,
   "id": "0be0c2f5",
   "metadata": {},
   "outputs": [],
   "source": [
    "l_1 = [\"aaa\", \"bbb\", \"zzz\", \"ccc\", \"eee\", \"fff\"]"
   ]
  },
  {
   "cell_type": "code",
   "execution_count": 126,
   "id": "33ad05a3",
   "metadata": {},
   "outputs": [
    {
     "data": {
      "text/plain": [
       "['aaa', 'bbb', 'ccc', 'eee', 'fff', 'zzz']"
      ]
     },
     "execution_count": 126,
     "metadata": {},
     "output_type": "execute_result"
    }
   ],
   "source": [
    "l_1.sort()\n",
    "l_1"
   ]
  },
  {
   "cell_type": "markdown",
   "id": "cfd376a9",
   "metadata": {},
   "source": [
    "### Практические задания"
   ]
  },
  {
   "cell_type": "markdown",
   "id": "68cb1f55",
   "metadata": {
    "solution2": "shown",
    "solution2_first": true
   },
   "source": [
    "#### Создайте список my_list, содержащий следующие элементы: ваше имя, ваш возраст, ваш любимый цвет (строкой), сколько лет вам было 10 лет назад, любое число от 0 до 10"
   ]
  },
  {
   "cell_type": "code",
   "execution_count": 43,
   "id": "551c0453",
   "metadata": {
    "solution2": "shown"
   },
   "outputs": [],
   "source": [
    "my_list = [\"Mike\", 44]"
   ]
  },
  {
   "cell_type": "markdown",
   "id": "af481819",
   "metadata": {
    "solution2": "shown",
    "solution2_first": true
   },
   "source": [
    "#### Каково значение второго элемента в списке (напоминаю индексация начинается с 0)? "
   ]
  },
  {
   "cell_type": "code",
   "execution_count": 45,
   "id": "a2934d73",
   "metadata": {
    "solution2": "shown"
   },
   "outputs": [
    {
     "data": {
      "text/plain": [
       "44"
      ]
     },
     "execution_count": 45,
     "metadata": {},
     "output_type": "execute_result"
    }
   ],
   "source": [
    "my_list[1]"
   ]
  },
  {
   "cell_type": "markdown",
   "id": "59ba674e",
   "metadata": {
    "solution2": "hidden",
    "solution2_first": true
   },
   "source": [
    "#### Подсчитайте сумму последних двух элементов в списке"
   ]
  },
  {
   "cell_type": "code",
   "execution_count": 138,
   "id": "275d8b87",
   "metadata": {
    "solution2": "hidden"
   },
   "outputs": [
    {
     "data": {
      "text/plain": [
       "39"
      ]
     },
     "execution_count": 138,
     "metadata": {},
     "output_type": "execute_result"
    }
   ],
   "source": [
    "my_list[-1] + my_list[-2]"
   ]
  },
  {
   "cell_type": "markdown",
   "id": "73cbfad6",
   "metadata": {
    "solution2": "hidden",
    "solution2_first": true
   },
   "source": [
    "#### Добавьте в конец списка имя вашей мамы (команда append)"
   ]
  },
  {
   "cell_type": "code",
   "execution_count": 130,
   "id": "d9f395d6",
   "metadata": {
    "solution2": "hidden"
   },
   "outputs": [],
   "source": [
    "my_list.append(\"Marina\")"
   ]
  },
  {
   "cell_type": "markdown",
   "id": "9e4d6db7",
   "metadata": {
    "solution2": "shown",
    "solution2_first": true
   },
   "source": [
    "#### Создайте список books с двумя вашими любимыми книгами и добавьте его к списку my_list так, чтобы в конце получился одномерный список"
   ]
  },
  {
   "cell_type": "code",
   "execution_count": 44,
   "id": "773d3e15",
   "metadata": {
    "solution2": "shown"
   },
   "outputs": [],
   "source": [
    "books = [\"Lord of the Rings\", \"Right ho, Jeeves\", \"Harry Potter\"]\n",
    "my_list.extend(books)"
   ]
  },
  {
   "cell_type": "code",
   "execution_count": 45,
   "id": "d660b99b",
   "metadata": {},
   "outputs": [
    {
     "data": {
      "text/plain": [
       "5"
      ]
     },
     "execution_count": 45,
     "metadata": {},
     "output_type": "execute_result"
    }
   ],
   "source": [
    "len(my_list)"
   ]
  },
  {
   "cell_type": "markdown",
   "id": "87d36664",
   "metadata": {
    "solution2": "shown",
    "solution2_first": true
   },
   "source": [
    "#### Подсчитайте, сколько раз число 3 встречается в списке my_list"
   ]
  },
  {
   "cell_type": "code",
   "execution_count": 132,
   "id": "7b0f9cca",
   "metadata": {
    "solution2": "shown"
   },
   "outputs": [
    {
     "data": {
      "text/plain": [
       "0"
      ]
     },
     "execution_count": 132,
     "metadata": {},
     "output_type": "execute_result"
    }
   ],
   "source": [
    "my_list.count(3)"
   ]
  },
  {
   "cell_type": "markdown",
   "id": "7a9a3475",
   "metadata": {
    "solution2": "shown",
    "solution2_first": true
   },
   "source": [
    "#### Достанье свой возраст из списка и положите его в переменную my_age"
   ]
  },
  {
   "cell_type": "code",
   "execution_count": null,
   "id": "5491184f",
   "metadata": {
    "solution2": "shown"
   },
   "outputs": [],
   "source": [
    "my_list.pop(1)"
   ]
  },
  {
   "cell_type": "markdown",
   "id": "d3217f96",
   "metadata": {
    "solution2": "shown",
    "solution2_first": true
   },
   "source": [
    "#### Переверните список в обратном порядке"
   ]
  },
  {
   "cell_type": "code",
   "execution_count": null,
   "id": "98e8e611",
   "metadata": {
    "solution2": "shown"
   },
   "outputs": [],
   "source": [
    "my_list.reverse()"
   ]
  },
  {
   "cell_type": "markdown",
   "id": "0b34a715",
   "metadata": {
    "solution2": "shown",
    "solution2_first": true
   },
   "source": [
    "#### Очистите список"
   ]
  },
  {
   "cell_type": "code",
   "execution_count": null,
   "id": "5a3b8e83",
   "metadata": {
    "solution2": "shown"
   },
   "outputs": [],
   "source": [
    "my_list.clear()"
   ]
  }
 ],
 "metadata": {
  "hide_input": false,
  "kernelspec": {
   "display_name": "Python 3 (ipykernel)",
   "language": "python",
   "name": "python3"
  },
  "language_info": {
   "codemirror_mode": {
    "name": "ipython",
    "version": 3
   },
   "file_extension": ".py",
   "mimetype": "text/x-python",
   "name": "python",
   "nbconvert_exporter": "python",
   "pygments_lexer": "ipython3",
   "version": "3.8.8"
  },
  "toc": {
   "base_numbering": 1,
   "nav_menu": {},
   "number_sections": true,
   "sideBar": true,
   "skip_h1_title": false,
   "title_cell": "Table of Contents",
   "title_sidebar": "Contents",
   "toc_cell": false,
   "toc_position": {
    "height": "calc(100% - 180px)",
    "left": "10px",
    "top": "150px",
    "width": "345.797px"
   },
   "toc_section_display": true,
   "toc_window_display": true
  }
 },
 "nbformat": 4,
 "nbformat_minor": 5
}
