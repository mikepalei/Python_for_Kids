{
 "cells": [
  {
   "cell_type": "markdown",
   "id": "d5b4245b",
   "metadata": {},
   "source": [
    "# Генератор случайных чисел"
   ]
  },
  {
   "cell_type": "code",
   "execution_count": 2,
   "id": "80eb75fd",
   "metadata": {},
   "outputs": [],
   "source": [
    "import random"
   ]
  },
  {
   "cell_type": "code",
   "execution_count": 36,
   "id": "6b93fc26",
   "metadata": {},
   "outputs": [
    {
     "data": {
      "text/plain": [
       "10"
      ]
     },
     "execution_count": 36,
     "metadata": {},
     "output_type": "execute_result"
    }
   ],
   "source": [
    "random.randint(1, 10)"
   ]
  },
  {
   "cell_type": "markdown",
   "id": "e039d18e",
   "metadata": {},
   "source": [
    "# Опции в команде print - аргументы end и sep"
   ]
  },
  {
   "cell_type": "code",
   "execution_count": 12,
   "id": "df883d1a",
   "metadata": {},
   "outputs": [
    {
     "name": "stdout",
     "output_type": "stream",
     "text": [
      "my name is Mike\n"
     ]
    }
   ],
   "source": [
    "print(\"my name is\", \"Mike\")"
   ]
  },
  {
   "cell_type": "code",
   "execution_count": 13,
   "id": "25975e42",
   "metadata": {},
   "outputs": [
    {
     "name": "stdout",
     "output_type": "stream",
     "text": [
      "my name is###Mike\n"
     ]
    }
   ],
   "source": [
    "print(\"my name is\", \"Mike\", sep='###')"
   ]
  },
  {
   "cell_type": "code",
   "execution_count": 14,
   "id": "4e91aedc",
   "metadata": {},
   "outputs": [
    {
     "name": "stdout",
     "output_type": "stream",
     "text": [
      "my name is\tMike\n"
     ]
    }
   ],
   "source": [
    "print(\"my name is\", \"Mike\", sep='\\t')"
   ]
  },
  {
   "cell_type": "code",
   "execution_count": 16,
   "id": "fae488a9",
   "metadata": {},
   "outputs": [
    {
     "name": "stdout",
     "output_type": "stream",
     "text": [
      "my name is Mike\n",
      "I am 44 years old\n"
     ]
    }
   ],
   "source": [
    "print(\"my name is Mike\")\n",
    "print(\"I am 44 years old\")"
   ]
  },
  {
   "cell_type": "code",
   "execution_count": 15,
   "id": "40158ac7",
   "metadata": {},
   "outputs": [
    {
     "name": "stdout",
     "output_type": "stream",
     "text": [
      "my name is Mike I am 44 years old\n"
     ]
    }
   ],
   "source": [
    "print(\"my name is Mike\", end=\" \")\n",
    "print(\"I am 44 years old\")"
   ]
  },
  {
   "cell_type": "markdown",
   "id": "e088d6cd",
   "metadata": {},
   "source": [
    "# Цикл while - работа выполняется до тех пор, пока справедливо условие"
   ]
  },
  {
   "cell_type": "markdown",
   "id": "c31bcb50",
   "metadata": {},
   "source": [
    "## Пример 1"
   ]
  },
  {
   "cell_type": "code",
   "execution_count": 37,
   "id": "2e31f0ab",
   "metadata": {},
   "outputs": [
    {
     "name": "stdout",
     "output_type": "stream",
     "text": [
      "I am doing something\n",
      "I am doing something\n",
      "I am doing something\n",
      "I am doing something\n"
     ]
    }
   ],
   "source": [
    "a = 5\n",
    "b = 1\n",
    "while b < a:\n",
    "    print(\"I am doing something\")\n",
    "    b += 1"
   ]
  },
  {
   "cell_type": "markdown",
   "id": "d776dc5c",
   "metadata": {},
   "source": [
    "## Пример 2"
   ]
  },
  {
   "cell_type": "code",
   "execution_count": 38,
   "id": "d99c3e82",
   "metadata": {},
   "outputs": [],
   "source": [
    "                    # ясно, облачно, моросящий дождь, дождь\n",
    "weather_options = [\"clement\", \"cloudy\", \"drizzling\", \"rainy\"]"
   ]
  },
  {
   "cell_type": "code",
   "execution_count": 42,
   "id": "d004a772",
   "metadata": {},
   "outputs": [
    {
     "name": "stdout",
     "output_type": "stream",
     "text": [
      "The weather is cloudy. I'm going for a walk\n",
      "The weather is drizzling. I'm going for a walk\n",
      "The weather is drizzling. I'm going for a walk\n",
      "The weather is drizzling. I'm going for a walk\n",
      "The weather is drizzling. I'm going for a walk\n",
      "The weather is cloudy. I'm going for a walk\n",
      "The weather is drizzling. I'm going for a walk\n",
      "The weather is clement. I'm going for a walk\n",
      "The weather is drizzling. I'm going for a walk\n",
      "The weather is cloudy. I'm going for a walk\n",
      "The weather is rainy. Staying home\n"
     ]
    }
   ],
   "source": [
    "weather = weather_options[random.randint(0, 3)]\n",
    "while weather != 'rainy':\n",
    "    print(f\"The weather is {weather}. I'm going for a walk\")\n",
    "    weather = weather_options[random.randint(0, 3)]\n",
    "print(f\"The weather is {weather}. Staying home\")"
   ]
  },
  {
   "cell_type": "code",
   "execution_count": null,
   "id": "0278686e",
   "metadata": {},
   "outputs": [],
   "source": [
    "print(\"Number Pattern \")\n",
    "\n",
    "# Decide the row count. (above pattern contains 5 rows)\n",
    "row = 5\n",
    "# start: 1\n",
    "# stop: row+1 (range never include stop number in result)\n",
    "# step: 1\n",
    "# run loop 5 times\n",
    "for i in range(1, row + 1, 1):\n",
    "    # Run inner loop i+1 times\n",
    "    for j in range(1, i + 1):\n",
    "        print(j, end=' ')\n",
    "    # empty line after each row\n",
    "    print(\"\")"
   ]
  },
  {
   "cell_type": "markdown",
   "id": "e9a95979",
   "metadata": {},
   "source": [
    "# Упражнения (речь может идти и о for, и о while)"
   ]
  },
  {
   "cell_type": "markdown",
   "id": "fbb0d502",
   "metadata": {
    "heading_collapsed": true
   },
   "source": [
    "## Упражнение 1"
   ]
  },
  {
   "cell_type": "code",
   "execution_count": 47,
   "id": "93501f34",
   "metadata": {
    "hidden": true
   },
   "outputs": [
    {
     "name": "stdout",
     "output_type": "stream",
     "text": [
      "3\n",
      "6\n",
      "9\n",
      "12\n",
      "15\n",
      "18\n",
      "21\n",
      "24\n",
      "27\n",
      "30\n"
     ]
    }
   ],
   "source": [
    "n_1 = 3\n",
    "n_2 = 1\n",
    "n_2_list = [1,2,3,4,5,6,7,8,9,10]\n",
    "\n",
    "#c циклом while\n",
    "while n_2 <= 10:\n",
    "    print(n_1 * n_2)\n",
    "    n_2 += 1\n",
    "    \n",
    "#с циклом for\n",
    "for n in n_2_list:\n",
    "    print(n_1 * n)"
   ]
  },
  {
   "cell_type": "code",
   "execution_count": 45,
   "id": "6f859265",
   "metadata": {
    "hidden": true
   },
   "outputs": [
    {
     "name": "stdout",
     "output_type": "stream",
     "text": [
      "3\n",
      "6\n",
      "9\n",
      "12\n",
      "15\n",
      "18\n",
      "21\n",
      "24\n",
      "27\n",
      "30\n"
     ]
    }
   ],
   "source": [
    "for n in n_2_list:\n",
    "    print(n_1 * n)"
   ]
  },
  {
   "cell_type": "markdown",
   "id": "72e25354",
   "metadata": {
    "hidden": true,
    "solution2": "hidden",
    "solution2_first": true
   },
   "source": [
    "Напечатайте таблицу умножения для данного числа. \n",
    "\n",
    "Например, для числа 2 результат должен быть:\n",
    "\n",
    "2\n",
    "<br>\n",
    "4\n",
    "<br>\n",
    "6\n",
    "<br>\n",
    "8\n",
    "<br>\n",
    "10\n",
    "<br>\n",
    "12\n",
    "<br>\n",
    "14\n",
    "<br>\n",
    "16\n",
    "<br>\n",
    "18\n",
    "<br>\n",
    "20\n",
    "\n",
    "Например, для числа 3 результат должен быть:\n",
    "\n",
    "3\n",
    "<br>\n",
    "6\n",
    "<br>\n",
    "9\n",
    "<br>\n",
    "12\n",
    "<br>\n",
    "15\n",
    "<br>\n",
    "18\n",
    "<br>\n",
    "21\n",
    "<br>\n",
    "24\n",
    "<br>\n",
    "27\n",
    "<br>\n",
    "30"
   ]
  },
  {
   "cell_type": "markdown",
   "id": "e7462430",
   "metadata": {},
   "source": [
    "## Упражнение 2"
   ]
  },
  {
   "cell_type": "markdown",
   "id": "a839fcaf",
   "metadata": {
    "solution2": "hidden",
    "solution2_first": true
   },
   "source": [
    "Напечатейте все целые положительные числа от 1 до 10"
   ]
  },
  {
   "cell_type": "markdown",
   "id": "2c2135a0",
   "metadata": {},
   "source": [
    "## Упражнение 3 - нужны циклы и вспомогательные переменные"
   ]
  },
  {
   "cell_type": "code",
   "execution_count": null,
   "id": "da4516a5",
   "metadata": {
    "solution2": "hidden"
   },
   "outputs": [],
   "source": [
    "i = 1\n",
    "while i <= 10:\n",
    "    print(i)\n",
    "    i += 1"
   ]
  },
  {
   "cell_type": "markdown",
   "id": "e0359dac",
   "metadata": {
    "solution2": "hidden",
    "solution2_first": true
   },
   "source": [
    "* Создайте список из 10 случайных чисел от 1 до 10 - подсказка, случайное число от 1 до десяти генерируется командой `random.randint(1, 10)`\n",
    "* Напечатейте произведение всех чисел в этом списке"
   ]
  },
  {
   "cell_type": "code",
   "execution_count": 6,
   "id": "5e1cf8ee",
   "metadata": {
    "solution2": "hidden"
   },
   "outputs": [
    {
     "name": "stdout",
     "output_type": "stream",
     "text": [
      "[1, 5, 10, 7, 5, 10, 6, 2, 4, 1]\n"
     ]
    },
    {
     "data": {
      "text/plain": [
       "840000"
      ]
     },
     "execution_count": 6,
     "metadata": {},
     "output_type": "execute_result"
    }
   ],
   "source": [
    "numbers = []\n",
    "i = 1\n",
    "while i <= 10:\n",
    "    numbers.append(random.randint(1, 10))\n",
    "    i += 1\n",
    "product = 1\n",
    "print(numbers)\n",
    "for number in numbers:\n",
    "    product *= number\n",
    "product"
   ]
  },
  {
   "cell_type": "markdown",
   "id": "59d5f7c6",
   "metadata": {},
   "source": [
    "## Упражнение 4"
   ]
  },
  {
   "cell_type": "markdown",
   "id": "745f69ab",
   "metadata": {
    "solution2": "hidden",
    "solution2_first": true
   },
   "source": [
    "Подсчитайте количество цифр в числе. Например, для числа 75869 результат должен быть 5."
   ]
  },
  {
   "cell_type": "code",
   "execution_count": 10,
   "id": "80a36798",
   "metadata": {
    "solution2": "hidden"
   },
   "outputs": [
    {
     "name": "stdout",
     "output_type": "stream",
     "text": [
      "Total digits are: 5\n"
     ]
    }
   ],
   "source": [
    "num = 75869\n",
    "count = 0\n",
    "while num != 0:\n",
    "    # floor division\n",
    "    # to reduce the last digit from number\n",
    "    num = num // 10\n",
    "\n",
    "    # increment counter by 1\n",
    "    count = count + 1\n",
    "print(\"Total digits are:\", count)"
   ]
  },
  {
   "cell_type": "markdown",
   "id": "447073e0",
   "metadata": {},
   "source": [
    "## Упражнение 5"
   ]
  },
  {
   "cell_type": "markdown",
   "id": "65884328",
   "metadata": {},
   "source": [
    "Напечатайте букву O звездочками"
   ]
  },
  {
   "cell_type": "raw",
   "id": "8b3b0a7f",
   "metadata": {
    "solution2": "hidden",
    "solution2_first": true
   },
   "source": [
    " *** \n",
    "*   *\n",
    "*   *\n",
    "*   *\n",
    "*   *\n",
    "*   *\n",
    " *** "
   ]
  },
  {
   "cell_type": "code",
   "execution_count": 28,
   "id": "dee4a415",
   "metadata": {
    "solution2": "hidden"
   },
   "outputs": [
    {
     "name": "stdout",
     "output_type": "stream",
     "text": [
      " *** \n",
      "*   *\n",
      "*   *\n",
      "*   *\n",
      "*   *\n",
      "*   *\n",
      " *** \n"
     ]
    }
   ],
   "source": [
    "start_end = \" *** \"\n",
    "middle = \"*   *\"\n",
    "for row in range(7):\n",
    "    if row == 0 or row == 6:\n",
    "        print(start_end)\n",
    "    else:\n",
    "        print(middle)    "
   ]
  },
  {
   "cell_type": "code",
   "execution_count": null,
   "id": "d8e2c842",
   "metadata": {
    "solution2": "hidden"
   },
   "outputs": [],
   "source": [
    "n = 2\n",
    "# stop: 11 (because range never include stop number in result)\n",
    "# run loop 10 times\n",
    "for i in range(1, 11, 1):\n",
    "    # 2 *i (current number)\n",
    "    product = n * i\n",
    "    print(product)"
   ]
  }
 ],
 "metadata": {
  "hide_input": false,
  "kernelspec": {
   "display_name": "Python 3",
   "language": "python",
   "name": "python3"
  },
  "language_info": {
   "codemirror_mode": {
    "name": "ipython",
    "version": 3
   },
   "file_extension": ".py",
   "mimetype": "text/x-python",
   "name": "python",
   "nbconvert_exporter": "python",
   "pygments_lexer": "ipython3",
   "version": "3.8.6"
  },
  "toc": {
   "base_numbering": 1,
   "nav_menu": {},
   "number_sections": true,
   "sideBar": true,
   "skip_h1_title": false,
   "title_cell": "Table of Contents",
   "title_sidebar": "Contents",
   "toc_cell": false,
   "toc_position": {},
   "toc_section_display": true,
   "toc_window_display": true
  }
 },
 "nbformat": 4,
 "nbformat_minor": 5
}
