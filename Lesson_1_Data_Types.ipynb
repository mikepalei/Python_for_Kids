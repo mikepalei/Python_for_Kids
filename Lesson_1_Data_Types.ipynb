{
 "cells": [
  {
   "cell_type": "markdown",
   "id": "ffff289f",
   "metadata": {},
   "source": [
    "# Типы языков программирования "
   ]
  },
  {
   "cell_type": "markdown",
   "id": "8c6970db",
   "metadata": {},
   "source": [
    "## Interpreted vs compiled"
   ]
  },
  {
   "cell_type": "markdown",
   "id": "b6f5e357",
   "metadata": {},
   "source": [
    "* Javascript, Python\n",
    "* Java, C#"
   ]
  },
  {
   "cell_type": "markdown",
   "id": "4259e094",
   "metadata": {},
   "source": [
    "## Typed vs Untyped"
   ]
  },
  {
   "cell_type": "markdown",
   "id": "ca4889d2",
   "metadata": {},
   "source": [
    "* Java, Scala, C++\n",
    "* Python"
   ]
  },
  {
   "cell_type": "markdown",
   "id": "1f2fd512",
   "metadata": {},
   "source": [
    "# Hello world"
   ]
  },
  {
   "cell_type": "markdown",
   "id": "89c0a678",
   "metadata": {},
   "source": [
    "## Regular execution (e.g. from IDE)"
   ]
  },
  {
   "cell_type": "code",
   "execution_count": 3,
   "id": "dd2b870e",
   "metadata": {},
   "outputs": [
    {
     "name": "stdout",
     "output_type": "stream",
     "text": [
      "Hello world!\n"
     ]
    }
   ],
   "source": [
    "if __name__ == '__main__':\n",
    "    print(\"Hello world!\")"
   ]
  },
  {
   "cell_type": "markdown",
   "id": "17de051d",
   "metadata": {},
   "source": [
    "## Interactive execution (e.g. shell or notebook)"
   ]
  },
  {
   "cell_type": "code",
   "execution_count": 3,
   "id": "bee4ef16",
   "metadata": {},
   "outputs": [
    {
     "name": "stdout",
     "output_type": "stream",
     "text": [
      "Hellow world!\n"
     ]
    }
   ],
   "source": [
    "print(\"Hellow world!\")"
   ]
  },
  {
   "cell_type": "markdown",
   "id": "59738eb4",
   "metadata": {},
   "source": [
    "# Data Types"
   ]
  },
  {
   "cell_type": "markdown",
   "id": "87763f5a",
   "metadata": {},
   "source": [
    "* Integer (целое число): 20\n",
    "* Float (число с плавающей точкой): 20.5\n",
    "* String (строка): “Mike”\n",
    "* List (список): [“apple”, “banana”, “cherry”]\n",
    "* Tuple (кортеж): (“apple”, “banana”, “cherry”)\n",
    "* Dictionary (словарь): {“name” : “John”, “age” : 36}"
   ]
  },
  {
   "cell_type": "markdown",
   "id": "6478dfce",
   "metadata": {},
   "source": [
    "## Data types by type"
   ]
  },
  {
   "cell_type": "markdown",
   "id": "211c0928",
   "metadata": {},
   "source": [
    "* Text Type: str\n",
    "* Numeric Types: int, float, complex\n",
    "* Sequence Types: list, tuple, range\n",
    "* Mapping Type: dict\n",
    "* Set Types: set, frozenset\n",
    "* Boolean Type: bool\n",
    "* Binary Types: bytes, bytearray, memoryview"
   ]
  },
  {
   "cell_type": "markdown",
   "id": "332289b0",
   "metadata": {},
   "source": [
    "# Numeric types"
   ]
  },
  {
   "cell_type": "markdown",
   "id": "0d756846",
   "metadata": {},
   "source": [
    "## int"
   ]
  },
  {
   "cell_type": "code",
   "execution_count": 3,
   "id": "815bc591",
   "metadata": {},
   "outputs": [],
   "source": [
    "# Shift + Enter"
   ]
  },
  {
   "cell_type": "code",
   "execution_count": 2,
   "id": "eb4c95f2",
   "metadata": {},
   "outputs": [
    {
     "data": {
      "text/plain": [
       "2"
      ]
     },
     "execution_count": 2,
     "metadata": {},
     "output_type": "execute_result"
    }
   ],
   "source": [
    "2"
   ]
  },
  {
   "cell_type": "code",
   "execution_count": 8,
   "id": "057abf66",
   "metadata": {},
   "outputs": [
    {
     "data": {
      "text/plain": [
       "1"
      ]
     },
     "execution_count": 8,
     "metadata": {},
     "output_type": "execute_result"
    }
   ],
   "source": [
    "1"
   ]
  },
  {
   "cell_type": "code",
   "execution_count": 4,
   "id": "c8c00361",
   "metadata": {
    "scrolled": true
   },
   "outputs": [
    {
     "name": "stdout",
     "output_type": "stream",
     "text": [
      "1\n"
     ]
    }
   ],
   "source": [
    "print(1)"
   ]
  },
  {
   "cell_type": "markdown",
   "id": "79e1bb45",
   "metadata": {},
   "source": [
    "## float/double"
   ]
  },
  {
   "cell_type": "code",
   "execution_count": 9,
   "id": "3e42ebb7",
   "metadata": {},
   "outputs": [
    {
     "data": {
      "text/plain": [
       "2.0"
      ]
     },
     "execution_count": 9,
     "metadata": {},
     "output_type": "execute_result"
    }
   ],
   "source": [
    "2.0"
   ]
  },
  {
   "cell_type": "code",
   "execution_count": 10,
   "id": "238de6b5",
   "metadata": {},
   "outputs": [
    {
     "data": {
      "text/plain": [
       "0.5"
      ]
     },
     "execution_count": 10,
     "metadata": {},
     "output_type": "execute_result"
    }
   ],
   "source": [
    ".5"
   ]
  },
  {
   "cell_type": "markdown",
   "id": "42c0697d",
   "metadata": {},
   "source": [
    "## string"
   ]
  },
  {
   "cell_type": "code",
   "execution_count": 5,
   "id": "040eeaf4",
   "metadata": {},
   "outputs": [
    {
     "data": {
      "text/plain": [
       "'Mike'"
      ]
     },
     "execution_count": 5,
     "metadata": {},
     "output_type": "execute_result"
    }
   ],
   "source": [
    "\"Mike\""
   ]
  },
  {
   "cell_type": "code",
   "execution_count": 12,
   "id": "907adbdc",
   "metadata": {},
   "outputs": [
    {
     "data": {
      "text/plain": [
       "'Hello'"
      ]
     },
     "execution_count": 12,
     "metadata": {},
     "output_type": "execute_result"
    }
   ],
   "source": [
    "'Hello'"
   ]
  },
  {
   "cell_type": "markdown",
   "id": "03d6bbe7",
   "metadata": {},
   "source": [
    "## boolean"
   ]
  },
  {
   "cell_type": "code",
   "execution_count": 22,
   "id": "f6168458",
   "metadata": {},
   "outputs": [
    {
     "data": {
      "text/plain": [
       "True"
      ]
     },
     "execution_count": 22,
     "metadata": {},
     "output_type": "execute_result"
    }
   ],
   "source": [
    "True"
   ]
  },
  {
   "cell_type": "code",
   "execution_count": 23,
   "id": "1b895012",
   "metadata": {},
   "outputs": [
    {
     "data": {
      "text/plain": [
       "False"
      ]
     },
     "execution_count": 23,
     "metadata": {},
     "output_type": "execute_result"
    }
   ],
   "source": [
    "False"
   ]
  },
  {
   "cell_type": "markdown",
   "id": "2b909191",
   "metadata": {},
   "source": [
    "# Verifying the data type with `type()` command"
   ]
  },
  {
   "cell_type": "code",
   "execution_count": 4,
   "id": "cf154434",
   "metadata": {},
   "outputs": [
    {
     "data": {
      "text/plain": [
       "str"
      ]
     },
     "execution_count": 4,
     "metadata": {},
     "output_type": "execute_result"
    }
   ],
   "source": [
    "type(\"Mike\")"
   ]
  },
  {
   "cell_type": "code",
   "execution_count": 49,
   "id": "c61556b2",
   "metadata": {},
   "outputs": [
    {
     "data": {
      "text/plain": [
       "str"
      ]
     },
     "execution_count": 49,
     "metadata": {},
     "output_type": "execute_result"
    }
   ],
   "source": [
    "type(\"Mike\")"
   ]
  },
  {
   "cell_type": "code",
   "execution_count": 6,
   "id": "3812b54c",
   "metadata": {},
   "outputs": [
    {
     "data": {
      "text/plain": [
       "int"
      ]
     },
     "execution_count": 6,
     "metadata": {},
     "output_type": "execute_result"
    }
   ],
   "source": [
    "type(250)"
   ]
  },
  {
   "cell_type": "code",
   "execution_count": 7,
   "id": "69f83bf4",
   "metadata": {},
   "outputs": [
    {
     "data": {
      "text/plain": [
       "float"
      ]
     },
     "execution_count": 7,
     "metadata": {},
     "output_type": "execute_result"
    }
   ],
   "source": [
    "type(2.33)"
   ]
  },
  {
   "cell_type": "code",
   "execution_count": 8,
   "id": "7acc0ae6",
   "metadata": {},
   "outputs": [
    {
     "data": {
      "text/plain": [
       "float"
      ]
     },
     "execution_count": 8,
     "metadata": {},
     "output_type": "execute_result"
    }
   ],
   "source": [
    "type(0.3)"
   ]
  },
  {
   "cell_type": "code",
   "execution_count": 9,
   "id": "3b6b0d59",
   "metadata": {},
   "outputs": [
    {
     "data": {
      "text/plain": [
       "bool"
      ]
     },
     "execution_count": 9,
     "metadata": {},
     "output_type": "execute_result"
    }
   ],
   "source": [
    "type(True)"
   ]
  },
  {
   "cell_type": "markdown",
   "id": "af6d315d",
   "metadata": {},
   "source": [
    "## Bonus - functions in python can accept other functions as arguments"
   ]
  },
  {
   "cell_type": "code",
   "execution_count": 54,
   "id": "d2a0268b",
   "metadata": {},
   "outputs": [
    {
     "name": "stdout",
     "output_type": "stream",
     "text": [
      "<class 'str'>\n"
     ]
    }
   ],
   "source": [
    "print(type(\"Hello world\"))"
   ]
  },
  {
   "cell_type": "markdown",
   "id": "141a855c",
   "metadata": {},
   "source": [
    "# Simple operations with numeric types (arithmetic operators)"
   ]
  },
  {
   "cell_type": "code",
   "execution_count": null,
   "id": "16796e83",
   "metadata": {},
   "outputs": [],
   "source": [
    "# sum"
   ]
  },
  {
   "cell_type": "code",
   "execution_count": 13,
   "id": "7e620df8",
   "metadata": {},
   "outputs": [
    {
     "data": {
      "text/plain": [
       "6"
      ]
     },
     "execution_count": 13,
     "metadata": {},
     "output_type": "execute_result"
    }
   ],
   "source": [
    "1 + 5"
   ]
  },
  {
   "cell_type": "code",
   "execution_count": 10,
   "id": "99c6b135",
   "metadata": {},
   "outputs": [
    {
     "name": "stdout",
     "output_type": "stream",
     "text": [
      "6\n"
     ]
    }
   ],
   "source": [
    "print(1+5)"
   ]
  },
  {
   "cell_type": "code",
   "execution_count": 38,
   "id": "5b5483e1",
   "metadata": {},
   "outputs": [],
   "source": [
    "# difference"
   ]
  },
  {
   "cell_type": "code",
   "execution_count": 27,
   "id": "2d332669",
   "metadata": {},
   "outputs": [
    {
     "data": {
      "text/plain": [
       "2"
      ]
     },
     "execution_count": 27,
     "metadata": {},
     "output_type": "execute_result"
    }
   ],
   "source": [
    "10 - 8"
   ]
  },
  {
   "cell_type": "code",
   "execution_count": 39,
   "id": "56b2b8e5",
   "metadata": {},
   "outputs": [],
   "source": [
    "# product"
   ]
  },
  {
   "cell_type": "code",
   "execution_count": 28,
   "id": "5b65347c",
   "metadata": {},
   "outputs": [
    {
     "data": {
      "text/plain": [
       "10"
      ]
     },
     "execution_count": 28,
     "metadata": {},
     "output_type": "execute_result"
    }
   ],
   "source": [
    "2 * 5"
   ]
  },
  {
   "cell_type": "code",
   "execution_count": 36,
   "id": "6bff4ca4",
   "metadata": {},
   "outputs": [],
   "source": [
    "# taking 2 to the power of 4"
   ]
  },
  {
   "cell_type": "code",
   "execution_count": 29,
   "id": "dfb3ba43",
   "metadata": {},
   "outputs": [
    {
     "data": {
      "text/plain": [
       "16"
      ]
     },
     "execution_count": 29,
     "metadata": {},
     "output_type": "execute_result"
    }
   ],
   "source": [
    "2 ** 4"
   ]
  },
  {
   "cell_type": "code",
   "execution_count": 11,
   "id": "20956603",
   "metadata": {},
   "outputs": [
    {
     "name": "stdout",
     "output_type": "stream",
     "text": [
      "16\n"
     ]
    }
   ],
   "source": [
    "print(2**4)"
   ]
  },
  {
   "cell_type": "code",
   "execution_count": 17,
   "id": "74b30d6f",
   "metadata": {},
   "outputs": [],
   "source": [
    "# please pay attention that regular devision yields a float and not an int"
   ]
  },
  {
   "cell_type": "code",
   "execution_count": null,
   "id": "c236e74b",
   "metadata": {},
   "outputs": [],
   "source": [
    "# division "
   ]
  },
  {
   "cell_type": "code",
   "execution_count": 6,
   "id": "a2d018c6",
   "metadata": {},
   "outputs": [
    {
     "data": {
      "text/plain": [
       "2.0"
      ]
     },
     "execution_count": 6,
     "metadata": {},
     "output_type": "execute_result"
    }
   ],
   "source": [
    "6 / 3"
   ]
  },
  {
   "cell_type": "code",
   "execution_count": 37,
   "id": "c2503d03",
   "metadata": {},
   "outputs": [
    {
     "data": {
      "text/plain": [
       "6.25"
      ]
     },
     "execution_count": 37,
     "metadata": {},
     "output_type": "execute_result"
    }
   ],
   "source": [
    "2.5 / 0.4"
   ]
  },
  {
   "cell_type": "code",
   "execution_count": 21,
   "id": "266a2bb8",
   "metadata": {},
   "outputs": [],
   "source": [
    "# for integer division we need to use // operator"
   ]
  },
  {
   "cell_type": "code",
   "execution_count": 20,
   "id": "ed715d9c",
   "metadata": {},
   "outputs": [
    {
     "data": {
      "text/plain": [
       "2"
      ]
     },
     "execution_count": 20,
     "metadata": {},
     "output_type": "execute_result"
    }
   ],
   "source": [
    "6 // 3"
   ]
  },
  {
   "cell_type": "code",
   "execution_count": 25,
   "id": "7d37ff2c",
   "metadata": {},
   "outputs": [],
   "source": [
    "# modulo division"
   ]
  },
  {
   "cell_type": "code",
   "execution_count": 24,
   "id": "7ebfa945",
   "metadata": {},
   "outputs": [
    {
     "data": {
      "text/plain": [
       "0"
      ]
     },
     "execution_count": 24,
     "metadata": {},
     "output_type": "execute_result"
    }
   ],
   "source": [
    "10 % 5"
   ]
  },
  {
   "cell_type": "code",
   "execution_count": 26,
   "id": "9954b212",
   "metadata": {},
   "outputs": [
    {
     "data": {
      "text/plain": [
       "4"
      ]
     },
     "execution_count": 26,
     "metadata": {},
     "output_type": "execute_result"
    }
   ],
   "source": [
    "10 % 6"
   ]
  },
  {
   "cell_type": "code",
   "execution_count": 7,
   "id": "1fd87b35",
   "metadata": {},
   "outputs": [
    {
     "name": "stdout",
     "output_type": "stream",
     "text": [
      "6\n"
     ]
    }
   ],
   "source": [
    "print(5+1)"
   ]
  },
  {
   "cell_type": "markdown",
   "id": "a466f97e",
   "metadata": {},
   "source": [
    "##  Практические задания"
   ]
  },
  {
   "cell_type": "markdown",
   "id": "aeccde2e",
   "metadata": {
    "solution2": "hidden",
    "solution2_first": true
   },
   "source": [
    "### Напечатайте (используя команду `print()`) сумму чисел 10 и 20"
   ]
  },
  {
   "cell_type": "code",
   "execution_count": 40,
   "id": "37fdea18",
   "metadata": {
    "solution2": "hidden"
   },
   "outputs": [
    {
     "name": "stdout",
     "output_type": "stream",
     "text": [
      "30\n"
     ]
    }
   ],
   "source": [
    "print(10 + 20)"
   ]
  },
  {
   "cell_type": "markdown",
   "id": "20f1845f",
   "metadata": {
    "solution2": "hidden",
    "solution2_first": true
   },
   "source": [
    "### Напечатайте (используя команду `print()`) разность чисел 17  и 14"
   ]
  },
  {
   "cell_type": "code",
   "execution_count": 42,
   "id": "547a1776",
   "metadata": {
    "solution2": "hidden"
   },
   "outputs": [
    {
     "name": "stdout",
     "output_type": "stream",
     "text": [
      "3\n"
     ]
    }
   ],
   "source": [
    "print(17 - 14)"
   ]
  },
  {
   "cell_type": "markdown",
   "id": "9a832b04",
   "metadata": {
    "solution2": "hidden",
    "solution2_first": true
   },
   "source": [
    "###  Напечатайте (используя команду `print()`) произведение чисел 4 и 5"
   ]
  },
  {
   "cell_type": "code",
   "execution_count": 43,
   "id": "48c5a767",
   "metadata": {
    "solution2": "hidden"
   },
   "outputs": [
    {
     "name": "stdout",
     "output_type": "stream",
     "text": [
      "20\n"
     ]
    }
   ],
   "source": [
    "print(4 * 5)"
   ]
  },
  {
   "cell_type": "markdown",
   "id": "9877411f",
   "metadata": {
    "solution2": "hidden",
    "solution2_first": true
   },
   "source": [
    "### Бонусное задание: напечатайте (используя команду `print()`) 2 в 5-й степени"
   ]
  },
  {
   "cell_type": "code",
   "execution_count": 44,
   "id": "aaeff0f6",
   "metadata": {
    "solution2": "hidden"
   },
   "outputs": [
    {
     "name": "stdout",
     "output_type": "stream",
     "text": [
      "32\n"
     ]
    }
   ],
   "source": [
    "print(2 ** 5)"
   ]
  },
  {
   "cell_type": "markdown",
   "id": "865a1887",
   "metadata": {
    "solution2": "shown",
    "solution2_first": true
   },
   "source": [
    "### Напечатайте (используя команду `print()`) частное чисел 19.5 и 3.2"
   ]
  },
  {
   "cell_type": "code",
   "execution_count": 45,
   "id": "765d56c7",
   "metadata": {
    "solution2": "shown"
   },
   "outputs": [
    {
     "name": "stdout",
     "output_type": "stream",
     "text": [
      "6.09375\n"
     ]
    }
   ],
   "source": [
    "print(19.5 / 3.2)"
   ]
  },
  {
   "cell_type": "markdown",
   "id": "ec584f55",
   "metadata": {
    "solution2": "hidden",
    "solution2_first": true
   },
   "source": [
    "### Напечатайте (используя команду `print()`) результат целочисленного деления 19 и 3"
   ]
  },
  {
   "cell_type": "code",
   "execution_count": 47,
   "id": "df2ffa76",
   "metadata": {
    "solution2": "hidden"
   },
   "outputs": [
    {
     "name": "stdout",
     "output_type": "stream",
     "text": [
      "6\n"
     ]
    }
   ],
   "source": [
    "print(19 // 3)"
   ]
  },
  {
   "cell_type": "markdown",
   "id": "e66158c0",
   "metadata": {
    "solution2": "shown",
    "solution2_first": true
   },
   "source": [
    "### Напечатайте (используя команду `print()`) остаток от деления 19 и 3"
   ]
  },
  {
   "cell_type": "code",
   "execution_count": 13,
   "id": "76e5a9b3",
   "metadata": {
    "solution2": "shown"
   },
   "outputs": [
    {
     "name": "stdout",
     "output_type": "stream",
     "text": [
      "1\n"
     ]
    }
   ],
   "source": [
    "print(19 % 3)"
   ]
  },
  {
   "cell_type": "markdown",
   "id": "3456ea56",
   "metadata": {},
   "source": [
    "# Operations with strings"
   ]
  },
  {
   "cell_type": "markdown",
   "id": "7e404911",
   "metadata": {},
   "source": [
    "##  Adding up"
   ]
  },
  {
   "cell_type": "code",
   "execution_count": 14,
   "id": "95f86829",
   "metadata": {},
   "outputs": [
    {
     "data": {
      "text/plain": [
       "'VanyaMisha'"
      ]
     },
     "execution_count": 14,
     "metadata": {},
     "output_type": "execute_result"
    }
   ],
   "source": [
    "\"Vanya\" + \"Misha\""
   ]
  },
  {
   "cell_type": "code",
   "execution_count": 59,
   "id": "4135cc6e",
   "metadata": {},
   "outputs": [
    {
     "ename": "TypeError",
     "evalue": "can only concatenate str (not \"int\") to str",
     "output_type": "error",
     "traceback": [
      "\u001b[0;31m---------------------------------------------------------------------------\u001b[0m",
      "\u001b[0;31mTypeError\u001b[0m                                 Traceback (most recent call last)",
      "\u001b[0;32m<ipython-input-59-338addf90d45>\u001b[0m in \u001b[0;36m<module>\u001b[0;34m\u001b[0m\n\u001b[0;32m----> 1\u001b[0;31m \u001b[0;34m\"a\"\u001b[0m \u001b[0;34m+\u001b[0m \u001b[0;36m2\u001b[0m\u001b[0;34m\u001b[0m\u001b[0;34m\u001b[0m\u001b[0m\n\u001b[0m",
      "\u001b[0;31mTypeError\u001b[0m: can only concatenate str (not \"int\") to str"
     ]
    }
   ],
   "source": [
    "\"a\" + 2"
   ]
  },
  {
   "cell_type": "code",
   "execution_count": 63,
   "id": "1a616cf3",
   "metadata": {},
   "outputs": [
    {
     "data": {
      "text/plain": [
       "str"
      ]
     },
     "execution_count": 63,
     "metadata": {},
     "output_type": "execute_result"
    }
   ],
   "source": [
    "type(\"a\")"
   ]
  },
  {
   "cell_type": "code",
   "execution_count": 64,
   "id": "c2ca4e8b",
   "metadata": {},
   "outputs": [
    {
     "data": {
      "text/plain": [
       "int"
      ]
     },
     "execution_count": 64,
     "metadata": {},
     "output_type": "execute_result"
    }
   ],
   "source": [
    "type(2)"
   ]
  },
  {
   "cell_type": "code",
   "execution_count": null,
   "id": "51398366",
   "metadata": {},
   "outputs": [],
   "source": [
    "#What will happend if we add \"2\" (as string) to \"a\""
   ]
  },
  {
   "cell_type": "code",
   "execution_count": 15,
   "id": "5e06e714",
   "metadata": {
    "hide_input": true
   },
   "outputs": [
    {
     "data": {
      "text/plain": [
       "'a2'"
      ]
     },
     "execution_count": 15,
     "metadata": {},
     "output_type": "execute_result"
    }
   ],
   "source": [
    "\"a\" + \"2\""
   ]
  },
  {
   "cell_type": "markdown",
   "id": "99a55be2",
   "metadata": {},
   "source": [
    "## Subtracting"
   ]
  },
  {
   "cell_type": "code",
   "execution_count": 57,
   "id": "d40169be",
   "metadata": {},
   "outputs": [
    {
     "ename": "TypeError",
     "evalue": "unsupported operand type(s) for -: 'str' and 'str'",
     "output_type": "error",
     "traceback": [
      "\u001b[0;31m---------------------------------------------------------------------------\u001b[0m",
      "\u001b[0;31mTypeError\u001b[0m                                 Traceback (most recent call last)",
      "\u001b[0;32m<ipython-input-57-a07a3680b544>\u001b[0m in \u001b[0;36m<module>\u001b[0;34m\u001b[0m\n\u001b[0;32m----> 1\u001b[0;31m \u001b[0;34m\"abc\"\u001b[0m \u001b[0;34m-\u001b[0m \u001b[0;34m\"c\"\u001b[0m\u001b[0;34m\u001b[0m\u001b[0;34m\u001b[0m\u001b[0m\n\u001b[0m",
      "\u001b[0;31mTypeError\u001b[0m: unsupported operand type(s) for -: 'str' and 'str'"
     ]
    }
   ],
   "source": [
    "\"abc\" - \"c\""
   ]
  },
  {
   "cell_type": "markdown",
   "id": "2e556881",
   "metadata": {},
   "source": [
    "## Multiplying"
   ]
  },
  {
   "cell_type": "code",
   "execution_count": 58,
   "id": "e3c1b2b3",
   "metadata": {},
   "outputs": [
    {
     "ename": "TypeError",
     "evalue": "can't multiply sequence by non-int of type 'str'",
     "output_type": "error",
     "traceback": [
      "\u001b[0;31m---------------------------------------------------------------------------\u001b[0m",
      "\u001b[0;31mTypeError\u001b[0m                                 Traceback (most recent call last)",
      "\u001b[0;32m<ipython-input-58-546e1eb79f21>\u001b[0m in \u001b[0;36m<module>\u001b[0;34m\u001b[0m\n\u001b[0;32m----> 1\u001b[0;31m \u001b[0;34m\"a\"\u001b[0m \u001b[0;34m*\u001b[0m \u001b[0;34m\"b\"\u001b[0m\u001b[0;34m\u001b[0m\u001b[0;34m\u001b[0m\u001b[0m\n\u001b[0m",
      "\u001b[0;31mTypeError\u001b[0m: can't multiply sequence by non-int of type 'str'"
     ]
    }
   ],
   "source": [
    "\"a\" * \"b\""
   ]
  },
  {
   "cell_type": "code",
   "execution_count": 9,
   "id": "d20fa991",
   "metadata": {},
   "outputs": [
    {
     "name": "stdout",
     "output_type": "stream",
     "text": [
      "SonyaSonya\n"
     ]
    }
   ],
   "source": [
    "print(\"Sonya\" * 2)"
   ]
  },
  {
   "cell_type": "markdown",
   "id": "8567aaec",
   "metadata": {},
   "source": [
    "## Dividing"
   ]
  },
  {
   "cell_type": "code",
   "execution_count": 61,
   "id": "7fa27063",
   "metadata": {},
   "outputs": [
    {
     "ename": "TypeError",
     "evalue": "unsupported operand type(s) for /: 'str' and 'int'",
     "output_type": "error",
     "traceback": [
      "\u001b[0;31m---------------------------------------------------------------------------\u001b[0m",
      "\u001b[0;31mTypeError\u001b[0m                                 Traceback (most recent call last)",
      "\u001b[0;32m<ipython-input-61-390a33f25098>\u001b[0m in \u001b[0;36m<module>\u001b[0;34m\u001b[0m\n\u001b[0;32m----> 1\u001b[0;31m \u001b[0;34m\"abc\"\u001b[0m \u001b[0;34m/\u001b[0m \u001b[0;36m2\u001b[0m\u001b[0;34m\u001b[0m\u001b[0;34m\u001b[0m\u001b[0m\n\u001b[0m",
      "\u001b[0;31mTypeError\u001b[0m: unsupported operand type(s) for /: 'str' and 'int'"
     ]
    }
   ],
   "source": [
    "\"abc\" / 2"
   ]
  },
  {
   "cell_type": "code",
   "execution_count": 62,
   "id": "9e082539",
   "metadata": {},
   "outputs": [
    {
     "ename": "TypeError",
     "evalue": "unsupported operand type(s) for /: 'str' and 'str'",
     "output_type": "error",
     "traceback": [
      "\u001b[0;31m---------------------------------------------------------------------------\u001b[0m",
      "\u001b[0;31mTypeError\u001b[0m                                 Traceback (most recent call last)",
      "\u001b[0;32m<ipython-input-62-68628ad68e9f>\u001b[0m in \u001b[0;36m<module>\u001b[0;34m\u001b[0m\n\u001b[0;32m----> 1\u001b[0;31m \u001b[0;34m\"abc\"\u001b[0m \u001b[0;34m/\u001b[0m \u001b[0;34m\"c\"\u001b[0m\u001b[0;34m\u001b[0m\u001b[0;34m\u001b[0m\u001b[0m\n\u001b[0m",
      "\u001b[0;31mTypeError\u001b[0m: unsupported operand type(s) for /: 'str' and 'str'"
     ]
    }
   ],
   "source": [
    "\"abc\" / \"c\""
   ]
  },
  {
   "cell_type": "markdown",
   "id": "c4246f71",
   "metadata": {},
   "source": [
    "## Практические задания"
   ]
  },
  {
   "cell_type": "markdown",
   "id": "30d8701d",
   "metadata": {
    "solution2": "hidden",
    "solution2_first": true
   },
   "source": [
    "### Напечатайте результат сложения строк \"abc\" и \"d\""
   ]
  },
  {
   "cell_type": "code",
   "execution_count": 66,
   "id": "84953d6d",
   "metadata": {
    "solution2": "hidden"
   },
   "outputs": [
    {
     "name": "stdout",
     "output_type": "stream",
     "text": [
      "abcd\n"
     ]
    }
   ],
   "source": [
    "print(\"abc\" + \"d\")"
   ]
  },
  {
   "cell_type": "markdown",
   "id": "95e85fbb",
   "metadata": {
    "solution2": "hidden",
    "solution2_first": true
   },
   "source": [
    "### Напечатайте строку \"abc\" повторенную 4 раза"
   ]
  },
  {
   "cell_type": "code",
   "execution_count": 68,
   "id": "be512990",
   "metadata": {
    "solution2": "hidden"
   },
   "outputs": [
    {
     "name": "stdout",
     "output_type": "stream",
     "text": [
      "abcabcabcabc\n"
     ]
    }
   ],
   "source": [
    "print(\"abc\" * 4)"
   ]
  },
  {
   "cell_type": "markdown",
   "id": "54ea0bd7",
   "metadata": {},
   "source": [
    "# Приведение к типу данных"
   ]
  },
  {
   "cell_type": "markdown",
   "id": "ed6bff8b",
   "metadata": {},
   "source": [
    "## Приведение к типу данных str"
   ]
  },
  {
   "cell_type": "code",
   "execution_count": 69,
   "id": "0ab476d2",
   "metadata": {},
   "outputs": [
    {
     "data": {
      "text/plain": [
       "'2'"
      ]
     },
     "execution_count": 69,
     "metadata": {},
     "output_type": "execute_result"
    }
   ],
   "source": [
    "str(2)"
   ]
  },
  {
   "cell_type": "code",
   "execution_count": 70,
   "id": "a0f27cff",
   "metadata": {},
   "outputs": [
    {
     "data": {
      "text/plain": [
       "str"
      ]
     },
     "execution_count": 70,
     "metadata": {},
     "output_type": "execute_result"
    }
   ],
   "source": [
    "type(str(2))"
   ]
  },
  {
   "cell_type": "markdown",
   "id": "71c8fd2f",
   "metadata": {},
   "source": [
    "## Приведение к типу данных int"
   ]
  },
  {
   "cell_type": "code",
   "execution_count": 71,
   "id": "2e022655",
   "metadata": {},
   "outputs": [
    {
     "data": {
      "text/plain": [
       "2"
      ]
     },
     "execution_count": 71,
     "metadata": {},
     "output_type": "execute_result"
    }
   ],
   "source": [
    "int(\"2\")"
   ]
  },
  {
   "cell_type": "code",
   "execution_count": 72,
   "id": "183e38a2",
   "metadata": {},
   "outputs": [
    {
     "data": {
      "text/plain": [
       "int"
      ]
     },
     "execution_count": 72,
     "metadata": {},
     "output_type": "execute_result"
    }
   ],
   "source": [
    "type(int(\"2\"))"
   ]
  },
  {
   "cell_type": "code",
   "execution_count": 73,
   "id": "091527e4",
   "metadata": {},
   "outputs": [
    {
     "ename": "ValueError",
     "evalue": "invalid literal for int() with base 10: 'a'",
     "output_type": "error",
     "traceback": [
      "\u001b[0;31m---------------------------------------------------------------------------\u001b[0m",
      "\u001b[0;31mValueError\u001b[0m                                Traceback (most recent call last)",
      "\u001b[0;32m<ipython-input-73-d9136db7b558>\u001b[0m in \u001b[0;36m<module>\u001b[0;34m\u001b[0m\n\u001b[0;32m----> 1\u001b[0;31m \u001b[0mint\u001b[0m\u001b[0;34m(\u001b[0m\u001b[0;34m\"a\"\u001b[0m\u001b[0;34m)\u001b[0m\u001b[0;34m\u001b[0m\u001b[0;34m\u001b[0m\u001b[0m\n\u001b[0m",
      "\u001b[0;31mValueError\u001b[0m: invalid literal for int() with base 10: 'a'"
     ]
    }
   ],
   "source": [
    "int(\"a\")"
   ]
  },
  {
   "cell_type": "markdown",
   "id": "f4e0b979",
   "metadata": {},
   "source": [
    "## Приведение к типу данных float"
   ]
  },
  {
   "cell_type": "code",
   "execution_count": 74,
   "id": "2f301d59",
   "metadata": {},
   "outputs": [
    {
     "data": {
      "text/plain": [
       "2.0"
      ]
     },
     "execution_count": 74,
     "metadata": {},
     "output_type": "execute_result"
    }
   ],
   "source": [
    "float(2)"
   ]
  },
  {
   "cell_type": "code",
   "execution_count": 17,
   "id": "998fe9ca",
   "metadata": {},
   "outputs": [
    {
     "data": {
      "text/plain": [
       "2.44"
      ]
     },
     "execution_count": 17,
     "metadata": {},
     "output_type": "execute_result"
    }
   ],
   "source": [
    "float(\"2.44\")"
   ]
  },
  {
   "cell_type": "code",
   "execution_count": 76,
   "id": "ff6b3ec2",
   "metadata": {},
   "outputs": [
    {
     "ename": "ValueError",
     "evalue": "could not convert string to float: 'a'",
     "output_type": "error",
     "traceback": [
      "\u001b[0;31m---------------------------------------------------------------------------\u001b[0m",
      "\u001b[0;31mValueError\u001b[0m                                Traceback (most recent call last)",
      "\u001b[0;32m<ipython-input-76-a1ff3dbf6f4f>\u001b[0m in \u001b[0;36m<module>\u001b[0;34m\u001b[0m\n\u001b[0;32m----> 1\u001b[0;31m \u001b[0mfloat\u001b[0m\u001b[0;34m(\u001b[0m\u001b[0;34m\"a\"\u001b[0m\u001b[0;34m)\u001b[0m\u001b[0;34m\u001b[0m\u001b[0;34m\u001b[0m\u001b[0m\n\u001b[0m",
      "\u001b[0;31mValueError\u001b[0m: could not convert string to float: 'a'"
     ]
    }
   ],
   "source": [
    "float(\"a\")"
   ]
  },
  {
   "cell_type": "code",
   "execution_count": 20,
   "id": "eef1f228",
   "metadata": {},
   "outputs": [
    {
     "data": {
      "text/plain": [
       "'pi = 3.14'"
      ]
     },
     "execution_count": 20,
     "metadata": {},
     "output_type": "execute_result"
    }
   ],
   "source": [
    "\"pi = \" + str(3.14)"
   ]
  },
  {
   "cell_type": "code",
   "execution_count": 21,
   "id": "b93d1695",
   "metadata": {},
   "outputs": [
    {
     "data": {
      "text/plain": [
       "'pi = 3.14'"
      ]
     },
     "execution_count": 21,
     "metadata": {},
     "output_type": "execute_result"
    }
   ],
   "source": [
    "\"pi = \" + \"3.14\""
   ]
  },
  {
   "cell_type": "code",
   "execution_count": 11,
   "id": "55e58f96",
   "metadata": {},
   "outputs": [
    {
     "ename": "TypeError",
     "evalue": "can only concatenate str (not \"float\") to str",
     "output_type": "error",
     "traceback": [
      "\u001b[0;31m---------------------------------------------------------------------------\u001b[0m",
      "\u001b[0;31mTypeError\u001b[0m                                 Traceback (most recent call last)",
      "\u001b[0;32m<ipython-input-11-3544a0af8e0d>\u001b[0m in \u001b[0;36m<module>\u001b[0;34m\u001b[0m\n\u001b[0;32m----> 1\u001b[0;31m \u001b[0;34m\"pi =\"\u001b[0m \u001b[0;34m+\u001b[0m \u001b[0;36m3.14\u001b[0m\u001b[0;34m\u001b[0m\u001b[0;34m\u001b[0m\u001b[0m\n\u001b[0m",
      "\u001b[0;31mTypeError\u001b[0m: can only concatenate str (not \"float\") to str"
     ]
    }
   ],
   "source": [
    "\"pi =\" + 3.14"
   ]
  },
  {
   "cell_type": "markdown",
   "id": "e9dc4298",
   "metadata": {},
   "source": [
    "## Практические задания"
   ]
  },
  {
   "cell_type": "markdown",
   "id": "88abccaa",
   "metadata": {
    "solution2": "shown",
    "solution2_first": true
   },
   "source": [
    "### Бонусное задание. Попробуйте напечатать результат \"сложения\" строки \"pi=\" и числа 3.14. Подумайте, что нужно сделать с числом, чтобы питон не выдал сообщения об ошибке. "
   ]
  },
  {
   "cell_type": "code",
   "execution_count": 12,
   "id": "85035518",
   "metadata": {
    "solution2": "shown"
   },
   "outputs": [
    {
     "name": "stdout",
     "output_type": "stream",
     "text": [
      "pi=3.14\n"
     ]
    }
   ],
   "source": [
    "print(\"pi=\" + str(3.14))"
   ]
  },
  {
   "cell_type": "markdown",
   "id": "f06a6ec5",
   "metadata": {},
   "source": [
    "# String indexing / slicing"
   ]
  },
  {
   "cell_type": "code",
   "execution_count": 80,
   "id": "c24adabf",
   "metadata": {},
   "outputs": [
    {
     "data": {
      "text/plain": [
       "'a'"
      ]
     },
     "execution_count": 80,
     "metadata": {},
     "output_type": "execute_result"
    }
   ],
   "source": [
    "\"ab2#$%cd\"[0] #getting the first symbol"
   ]
  },
  {
   "cell_type": "code",
   "execution_count": 81,
   "id": "cc931166",
   "metadata": {},
   "outputs": [
    {
     "data": {
      "text/plain": [
       "'b'"
      ]
     },
     "execution_count": 81,
     "metadata": {},
     "output_type": "execute_result"
    }
   ],
   "source": [
    "\"abcd\"[1] #getting the second symbol"
   ]
  },
  {
   "cell_type": "code",
   "execution_count": 83,
   "id": "1b557f0f",
   "metadata": {},
   "outputs": [
    {
     "data": {
      "text/plain": [
       "'bcd'"
      ]
     },
     "execution_count": 83,
     "metadata": {},
     "output_type": "execute_result"
    }
   ],
   "source": [
    "\"abcd\"[1:] #getting all symbols starting from X"
   ]
  },
  {
   "cell_type": "code",
   "execution_count": 85,
   "id": "291efed2",
   "metadata": {},
   "outputs": [
    {
     "data": {
      "text/plain": [
       "'bcd'"
      ]
     },
     "execution_count": 85,
     "metadata": {},
     "output_type": "execute_result"
    }
   ],
   "source": [
    "\"abcdef\"[1:4] #getting all symbols from x to y (not including y)"
   ]
  },
  {
   "cell_type": "code",
   "execution_count": 87,
   "id": "0eed179a",
   "metadata": {},
   "outputs": [
    {
     "data": {
      "text/plain": [
       "'abc'"
      ]
     },
     "execution_count": 87,
     "metadata": {},
     "output_type": "execute_result"
    }
   ],
   "source": [
    "\"abcdef\"[:3] #getting all symbols up to x (not including x)"
   ]
  },
  {
   "cell_type": "code",
   "execution_count": 90,
   "id": "2ab0de47",
   "metadata": {},
   "outputs": [
    {
     "data": {
      "text/plain": [
       "'f'"
      ]
     },
     "execution_count": 90,
     "metadata": {},
     "output_type": "execute_result"
    }
   ],
   "source": [
    "\"abcdef\"[-1] #getting the symbol at position x from the end"
   ]
  },
  {
   "cell_type": "code",
   "execution_count": 91,
   "id": "5074cd5f",
   "metadata": {},
   "outputs": [
    {
     "data": {
      "text/plain": [
       "'e'"
      ]
     },
     "execution_count": 91,
     "metadata": {},
     "output_type": "execute_result"
    }
   ],
   "source": [
    "\"abcdef\"[-2] #getting the symbol at position x from the end"
   ]
  },
  {
   "cell_type": "code",
   "execution_count": 94,
   "id": "c3b52813",
   "metadata": {},
   "outputs": [
    {
     "data": {
      "text/plain": [
       "'ef'"
      ]
     },
     "execution_count": 94,
     "metadata": {},
     "output_type": "execute_result"
    }
   ],
   "source": [
    "\"abcdef\"[-2:] #getting all symbols starting from x position from the end up to the end"
   ]
  },
  {
   "cell_type": "code",
   "execution_count": 95,
   "id": "23f7dc38",
   "metadata": {},
   "outputs": [
    {
     "data": {
      "text/plain": [
       "'abcd'"
      ]
     },
     "execution_count": 95,
     "metadata": {},
     "output_type": "execute_result"
    }
   ],
   "source": [
    "\"abcdef\"[:-2] #getting all symbols up to the x starting from the end"
   ]
  },
  {
   "cell_type": "markdown",
   "id": "7689b38f",
   "metadata": {},
   "source": [
    "## Практические задания"
   ]
  },
  {
   "cell_type": "markdown",
   "id": "c3528bb9",
   "metadata": {
    "solution2": "hidden",
    "solution2_first": true
   },
   "source": [
    "### В строке \"University\" напечатайте с 4 по 6 включительно символы"
   ]
  },
  {
   "cell_type": "code",
   "execution_count": 1,
   "id": "42dec16b",
   "metadata": {
    "solution2": "hidden"
   },
   "outputs": [
    {
     "name": "stdout",
     "output_type": "stream",
     "text": [
      "ers\n"
     ]
    }
   ],
   "source": [
    "print(\"University\"[4:7])"
   ]
  },
  {
   "cell_type": "markdown",
   "id": "ed960da2",
   "metadata": {
    "solution2": "hidden",
    "solution2_first": true
   },
   "source": [
    "### В строке \"University\" напечатайте все символы со второго с конца и до конца"
   ]
  },
  {
   "cell_type": "code",
   "execution_count": 2,
   "id": "b1d6622e",
   "metadata": {
    "solution2": "hidden"
   },
   "outputs": [
    {
     "name": "stdout",
     "output_type": "stream",
     "text": [
      "ty\n"
     ]
    }
   ],
   "source": [
    "print(\"Universtity\"[-2:])"
   ]
  },
  {
   "cell_type": "markdown",
   "id": "2185ed79",
   "metadata": {
    "solution2": "shown",
    "solution2_first": true
   },
   "source": [
    "### Напечатайте \"сумму\", которая получится, если взять три первых символа в слове \"Help\" и второй и третий символы в слове \"alone\""
   ]
  },
  {
   "cell_type": "markdown",
   "id": "6f1aa876",
   "metadata": {},
   "source": [
    "# Variables"
   ]
  },
  {
   "cell_type": "markdown",
   "id": "3f5ad11d",
   "metadata": {},
   "source": [
    "## Mutable vs immutable"
   ]
  },
  {
   "cell_type": "code",
   "execution_count": 19,
   "id": "45315554",
   "metadata": {},
   "outputs": [
    {
     "name": "stdout",
     "output_type": "stream",
     "text": [
      "1\n"
     ]
    }
   ],
   "source": [
    "a = 1 #the = operator is used for assignment, not to check equality. For equality we use ==\n",
    "print(a)"
   ]
  },
  {
   "cell_type": "code",
   "execution_count": 20,
   "id": "18782cfe",
   "metadata": {},
   "outputs": [
    {
     "name": "stdout",
     "output_type": "stream",
     "text": [
      "2.5\n"
     ]
    }
   ],
   "source": [
    "b = 2.5\n",
    "print(b)"
   ]
  },
  {
   "cell_type": "code",
   "execution_count": 21,
   "id": "5475d735",
   "metadata": {},
   "outputs": [
    {
     "name": "stdout",
     "output_type": "stream",
     "text": [
      "test\n"
     ]
    }
   ],
   "source": [
    "c = \"test\"\n",
    "print(c)"
   ]
  },
  {
   "cell_type": "code",
   "execution_count": 22,
   "id": "70e348ec",
   "metadata": {},
   "outputs": [
    {
     "data": {
      "text/plain": [
       "4361115856"
      ]
     },
     "execution_count": 22,
     "metadata": {},
     "output_type": "execute_result"
    }
   ],
   "source": [
    "id(a)"
   ]
  },
  {
   "cell_type": "code",
   "execution_count": 23,
   "id": "0e001145",
   "metadata": {},
   "outputs": [
    {
     "data": {
      "text/plain": [
       "4396123024"
      ]
     },
     "execution_count": 23,
     "metadata": {},
     "output_type": "execute_result"
    }
   ],
   "source": [
    "id(b)"
   ]
  },
  {
   "cell_type": "code",
   "execution_count": 24,
   "id": "11b503de",
   "metadata": {},
   "outputs": [
    {
     "data": {
      "text/plain": [
       "4365001264"
      ]
     },
     "execution_count": 24,
     "metadata": {},
     "output_type": "execute_result"
    }
   ],
   "source": [
    "id(c)"
   ]
  },
  {
   "cell_type": "code",
   "execution_count": 25,
   "id": "9df33abb",
   "metadata": {},
   "outputs": [
    {
     "name": "stdout",
     "output_type": "stream",
     "text": [
      "4361115984\n",
      "4361116016\n"
     ]
    }
   ],
   "source": [
    "d = 5\n",
    "print(id(d))\n",
    "d = 6\n",
    "print(id(d))"
   ]
  },
  {
   "cell_type": "code",
   "execution_count": 14,
   "id": "d0a4ad59",
   "metadata": {},
   "outputs": [
    {
     "name": "stdout",
     "output_type": "stream",
     "text": [
      "4504866544\n",
      "4504866512\n",
      "4504866480\n",
      "4504866448\n",
      "4504866416\n",
      "4504866384\n",
      "4504866352\n",
      "4504866320\n",
      "4504866288\n",
      "4504866256\n",
      "4504866224\n"
     ]
    }
   ],
   "source": [
    "d = 50\n",
    "print(id(d))\n",
    "for _ in range(10):\n",
    "    d -= 1\n",
    "    print(id(d))"
   ]
  },
  {
   "cell_type": "markdown",
   "id": "30b7d5c1",
   "metadata": {},
   "source": [
    "# Learning how to pass input using the `input()` statement"
   ]
  },
  {
   "cell_type": "code",
   "execution_count": 15,
   "id": "41098491",
   "metadata": {},
   "outputs": [
    {
     "name": "stdout",
     "output_type": "stream",
     "text": [
      "фвавававав\n"
     ]
    }
   ],
   "source": [
    "a = input()"
   ]
  },
  {
   "cell_type": "code",
   "execution_count": 16,
   "id": "f15b3c9e",
   "metadata": {},
   "outputs": [
    {
     "name": "stdout",
     "output_type": "stream",
     "text": [
      "фвавававав\n"
     ]
    }
   ],
   "source": [
    "print(a)"
   ]
  },
  {
   "cell_type": "code",
   "execution_count": 17,
   "id": "7d39e26a",
   "metadata": {},
   "outputs": [
    {
     "name": "stdout",
     "output_type": "stream",
     "text": [
      "Hello фвавававав\n"
     ]
    }
   ],
   "source": [
    "print(\"Hello\", a)"
   ]
  },
  {
   "cell_type": "code",
   "execution_count": 6,
   "id": "1a5bc288",
   "metadata": {},
   "outputs": [
    {
     "name": "stdout",
     "output_type": "stream",
     "text": [
      "5\n"
     ]
    }
   ],
   "source": [
    "b = input()"
   ]
  },
  {
   "cell_type": "code",
   "execution_count": 7,
   "id": "f8d8b790",
   "metadata": {},
   "outputs": [
    {
     "data": {
      "text/plain": [
       "str"
      ]
     },
     "execution_count": 7,
     "metadata": {},
     "output_type": "execute_result"
    }
   ],
   "source": [
    "type(b)"
   ]
  },
  {
   "cell_type": "code",
   "execution_count": 8,
   "id": "9230cd45",
   "metadata": {},
   "outputs": [
    {
     "name": "stdout",
     "output_type": "stream",
     "text": [
      "5\n"
     ]
    }
   ],
   "source": [
    "print(b)"
   ]
  },
  {
   "cell_type": "code",
   "execution_count": 9,
   "id": "e2524165",
   "metadata": {},
   "outputs": [
    {
     "name": "stdout",
     "output_type": "stream",
     "text": [
      "6\n"
     ]
    }
   ],
   "source": [
    "c = input()"
   ]
  },
  {
   "cell_type": "code",
   "execution_count": 10,
   "id": "c4649ad1",
   "metadata": {},
   "outputs": [
    {
     "data": {
      "text/plain": [
       "str"
      ]
     },
     "execution_count": 10,
     "metadata": {},
     "output_type": "execute_result"
    }
   ],
   "source": [
    "type(c)"
   ]
  },
  {
   "cell_type": "code",
   "execution_count": 11,
   "id": "9bc1ce7c",
   "metadata": {},
   "outputs": [
    {
     "data": {
      "text/plain": [
       "'56'"
      ]
     },
     "execution_count": 11,
     "metadata": {},
     "output_type": "execute_result"
    }
   ],
   "source": [
    "b+c"
   ]
  },
  {
   "cell_type": "code",
   "execution_count": 36,
   "id": "d31d214c",
   "metadata": {
    "solution2": "shown",
    "solution2_first": true
   },
   "outputs": [],
   "source": [
    "#what will happen if we add b and c? b + c"
   ]
  },
  {
   "cell_type": "code",
   "execution_count": null,
   "id": "00be7b6d",
   "metadata": {
    "hide_input": false,
    "solution2": "shown"
   },
   "outputs": [],
   "source": [
    "print(b + c)"
   ]
  },
  {
   "cell_type": "code",
   "execution_count": null,
   "id": "bf6f5836",
   "metadata": {},
   "outputs": [],
   "source": [
    "print(\"Hello\", name)"
   ]
  },
  {
   "cell_type": "markdown",
   "id": "428d055e",
   "metadata": {},
   "source": [
    "## Практические задания"
   ]
  },
  {
   "cell_type": "markdown",
   "id": "4b8794d7",
   "metadata": {
    "solution2": "shown",
    "solution2_first": true
   },
   "source": [
    "### Используя функцию `input()`, передайте ваше имя в переменную name. Напечатайте \"Hello\" и значение в переменной name"
   ]
  },
  {
   "cell_type": "code",
   "execution_count": 18,
   "id": "dda011bd",
   "metadata": {},
   "outputs": [
    {
     "name": "stdout",
     "output_type": "stream",
     "text": [
      "Mike\n"
     ]
    }
   ],
   "source": [
    "dddeeeff = input()"
   ]
  },
  {
   "cell_type": "code",
   "execution_count": 19,
   "id": "22a50018",
   "metadata": {},
   "outputs": [
    {
     "name": "stdout",
     "output_type": "stream",
     "text": [
      "Hello Mike\n"
     ]
    }
   ],
   "source": [
    "print(\"Hello\", dddeeeff)"
   ]
  },
  {
   "cell_type": "code",
   "execution_count": 38,
   "id": "01adeebf",
   "metadata": {
    "solution2": "shown"
   },
   "outputs": [
    {
     "name": "stdout",
     "output_type": "stream",
     "text": [
      "Mike\n",
      "Hello Mike\n"
     ]
    }
   ],
   "source": [
    "name = input()\n",
    "print(\"Hello\", name)"
   ]
  },
  {
   "cell_type": "markdown",
   "id": "a3ecfd34",
   "metadata": {
    "solution2": "hidden",
    "solution2_first": true
   },
   "source": [
    "### Используя функцию `input()`, запишите свой возраст в переменную age. Напечатайте \"My age =\" и значение в переменной age"
   ]
  },
  {
   "cell_type": "code",
   "execution_count": 40,
   "id": "4afaba80",
   "metadata": {
    "solution2": "hidden"
   },
   "outputs": [
    {
     "name": "stdout",
     "output_type": "stream",
     "text": [
      "44\n",
      "My age = 44\n"
     ]
    }
   ],
   "source": [
    "age = input()\n",
    "print(\"My age =\", age)"
   ]
  },
  {
   "cell_type": "markdown",
   "id": "2e37ca15",
   "metadata": {
    "solution2": "hidden",
    "solution2_first": true
   },
   "source": [
    "### Передайте сегодняшнее число в переменную date используя формат dd/mm/yyyy (день, месяц, год) и напечатайте \"Today =\" и значение переменной date"
   ]
  },
  {
   "cell_type": "code",
   "execution_count": 42,
   "id": "76f0be1a",
   "metadata": {
    "solution2": "hidden"
   },
   "outputs": [
    {
     "name": "stdout",
     "output_type": "stream",
     "text": [
      "12/03/2022\n",
      "Today = 12/03/2022\n"
     ]
    }
   ],
   "source": [
    "date = input()\n",
    "print(\"Today =\", date)"
   ]
  },
  {
   "cell_type": "markdown",
   "id": "4d2db726",
   "metadata": {
    "solution2": "hidden",
    "solution2_first": true
   },
   "source": [
    "### Бонусное задание.  Запишите в переменную num_1 какое-то положительное целое число от 1 до 10, запишите в переменную num_2 какое-то другое целое положительное число от 1 до 10. Напечатайте сумму этих чисел."
   ]
  },
  {
   "cell_type": "code",
   "execution_count": 13,
   "id": "2a4b25d1",
   "metadata": {},
   "outputs": [
    {
     "data": {
      "text/plain": [
       "int"
      ]
     },
     "execution_count": 13,
     "metadata": {},
     "output_type": "execute_result"
    }
   ],
   "source": [
    "type(int(\"5\"))"
   ]
  },
  {
   "cell_type": "raw",
   "id": "394479a9",
   "metadata": {},
   "source": [
    "наша_переменная = input()\n",
    "for элемент in наша_переменная:\n",
    "    какая-то наша логика"
   ]
  },
  {
   "cell_type": "code",
   "execution_count": 43,
   "id": "f33395e2",
   "metadata": {
    "solution2": "hidden"
   },
   "outputs": [
    {
     "name": "stdout",
     "output_type": "stream",
     "text": [
      "5\n",
      "6\n",
      "11\n"
     ]
    }
   ],
   "source": [
    "num_1 = input()\n",
    "num_2 = input()\n",
    "print(int(num_1) + int(num_2))"
   ]
  },
  {
   "cell_type": "code",
   "execution_count": 3,
   "id": "4b035084",
   "metadata": {
    "solution2": "hidden"
   },
   "outputs": [
    {
     "name": "stdout",
     "output_type": "stream",
     "text": [
      "Hello\n"
     ]
    }
   ],
   "source": [
    "print(\"Help\"[:3] + \"alone\"[1:3])"
   ]
  },
  {
   "cell_type": "code",
   "execution_count": null,
   "id": "3b16ea19",
   "metadata": {
    "solution2": "hidden"
   },
   "outputs": [],
   "source": []
  }
 ],
 "metadata": {
  "hide_input": false,
  "kernelspec": {
   "display_name": "Python 3",
   "language": "python",
   "name": "python3"
  },
  "language_info": {
   "codemirror_mode": {
    "name": "ipython",
    "version": 3
   },
   "file_extension": ".py",
   "mimetype": "text/x-python",
   "name": "python",
   "nbconvert_exporter": "python",
   "pygments_lexer": "ipython3",
   "version": "3.8.6"
  },
  "toc": {
   "base_numbering": 1,
   "nav_menu": {},
   "number_sections": true,
   "sideBar": true,
   "skip_h1_title": false,
   "title_cell": "Table of Contents",
   "title_sidebar": "Contents",
   "toc_cell": false,
   "toc_position": {
    "height": "calc(100% - 180px)",
    "left": "10px",
    "top": "150px",
    "width": "498.594px"
   },
   "toc_section_display": true,
   "toc_window_display": true
  }
 },
 "nbformat": 4,
 "nbformat_minor": 5
}
